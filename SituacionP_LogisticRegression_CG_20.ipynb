{
  "nbformat": 4,
  "nbformat_minor": 0,
  "metadata": {
    "colab": {
      "name": "SituacionP_LogisticRegression_CG_20.ipynb",
      "provenance": [],
      "authorship_tag": "ABX9TyNQpdzwAWGfS0HKkKssMuBb"
    },
    "kernelspec": {
      "name": "python3",
      "display_name": "Python 3"
    },
    "language_info": {
      "name": "python"
    }
  },
  "cells": [
    {
      "cell_type": "markdown",
      "source": [
        "Situación Profesional Logistic Regression Model\n",
        "https://www.kaggle.com/code/prashant111/logistic-regression-classifier-tutorial/notebook#9.-Split-data-into-separate-training-and-test-set-\n",
        "\n",
        "Profesor: Ing. Narciso Pérez\n",
        "\n",
        "Alumna: Carina Giovine\n",
        "\n",
        "Tecnicatura en Cs de Ds e IA - Cohorte 2020.\n",
        "\n",
        "PRIMERA PARTE DE MATRIC DE 20 ELEMENTOS"
      ],
      "metadata": {
        "id": "lufld-JNtBSC"
      }
    },
    {
      "cell_type": "code",
      "source": [
        "import numpy as np # linear algebra\n",
        "import pandas as pd \n",
        "import matplotlib.pyplot as plt # data visualization\n",
        "import seaborn as sns # statistical data visualization\n",
        "# Preprocesado, modelado y métricas:\n",
        "from sklearn.model_selection import train_test_split \n",
        "from sklearn.linear_model import LogisticRegression\n",
        "from sklearn.metrics import accuracy_score\n",
        "from sklearn.metrics import confusion_matrix\n",
        "from sklearn.metrics import classification_report\n",
        "%matplotlib inline"
      ],
      "metadata": {
        "id": "uQm4U5ULtAq0"
      },
      "execution_count": 1,
      "outputs": []
    },
    {
      "cell_type": "code",
      "source": [
        "#generar muestra de 20 valores que siguen una distribución normal\n",
        "ma_nor=np.random.normal(0,1,20)\n",
        "ma_nor"
      ],
      "metadata": {
        "colab": {
          "base_uri": "https://localhost:8080/"
        },
        "id": "BKsYjoQ8tAtf",
        "outputId": "c1974232-31f8-4a8d-d216-de0e304fab7d"
      },
      "execution_count": 2,
      "outputs": [
        {
          "output_type": "execute_result",
          "data": {
            "text/plain": [
              "array([-0.4350634 ,  2.08037593,  1.64949448, -1.56684007, -0.2364443 ,\n",
              "        0.31022279, -0.35328313, -0.75303931, -0.57343807,  0.87037066,\n",
              "       -1.08687274,  1.54971571,  0.70477837, -1.48714133, -1.8578482 ,\n",
              "       -1.91084833, -0.40751041,  2.08735561,  0.38419478, -0.06668795])"
            ]
          },
          "metadata": {},
          "execution_count": 2
        }
      ]
    },
    {
      "cell_type": "code",
      "source": [
        "#Media\n",
        "media= np.mean(ma_nor)\n",
        "media"
      ],
      "metadata": {
        "colab": {
          "base_uri": "https://localhost:8080/"
        },
        "id": "tMk3C9C-tAv4",
        "outputId": "5e00eaf3-3ab3-4f29-8fda-b40a833f328f"
      },
      "execution_count": 3,
      "outputs": [
        {
          "output_type": "execute_result",
          "data": {
            "text/plain": [
              "-0.054925444641995134"
            ]
          },
          "metadata": {},
          "execution_count": 3
        }
      ]
    },
    {
      "cell_type": "code",
      "source": [
        "#Media\n",
        "media= np.mean(ma_nor)\n",
        "media"
      ],
      "metadata": {
        "colab": {
          "base_uri": "https://localhost:8080/"
        },
        "id": "hi60jnkStAyc",
        "outputId": "3071b486-ff11-4658-d6ab-b7958ad2786d"
      },
      "execution_count": 4,
      "outputs": [
        {
          "output_type": "execute_result",
          "data": {
            "text/plain": [
              "-0.054925444641995134"
            ]
          },
          "metadata": {},
          "execution_count": 4
        }
      ]
    },
    {
      "cell_type": "code",
      "source": [
        "# Standard Deviation\n",
        "r2 = np.std(ma_nor)\n",
        "r2"
      ],
      "metadata": {
        "colab": {
          "base_uri": "https://localhost:8080/"
        },
        "id": "voAu9OjdtA1C",
        "outputId": "25b7d1e2-86ba-4ba3-a366-328fe3648b24"
      },
      "execution_count": 5,
      "outputs": [
        {
          "output_type": "execute_result",
          "data": {
            "text/plain": [
              "1.2172191846851892"
            ]
          },
          "metadata": {},
          "execution_count": 5
        }
      ]
    },
    {
      "cell_type": "code",
      "source": [
        "# Calculo la varianza del array con distribución normal:\n",
        "varianza = np.var(ma_nor)\n",
        "varianza"
      ],
      "metadata": {
        "colab": {
          "base_uri": "https://localhost:8080/"
        },
        "id": "JFJFBtYRtA3b",
        "outputId": "8bcd8669-87fa-465e-ffae-af52be6e56c8"
      },
      "execution_count": 6,
      "outputs": [
        {
          "output_type": "execute_result",
          "data": {
            "text/plain": [
              "1.4816225435656767"
            ]
          },
          "metadata": {},
          "execution_count": 6
        }
      ]
    },
    {
      "cell_type": "code",
      "source": [
        "plt.hist(ma_nor)"
      ],
      "metadata": {
        "colab": {
          "base_uri": "https://localhost:8080/",
          "height": 352
        },
        "id": "BYxYqTAhtyWw",
        "outputId": "07dafc96-9bf5-4a11-ccd3-aa853c1b3235"
      },
      "execution_count": 7,
      "outputs": [
        {
          "output_type": "execute_result",
          "data": {
            "text/plain": [
              "(array([3., 1., 2., 4., 2., 2., 2., 0., 2., 2.]),\n",
              " array([-1.91084833, -1.51102793, -1.11120754, -0.71138715, -0.31156675,\n",
              "         0.08825364,  0.48807404,  0.88789443,  1.28771483,  1.68753522,\n",
              "         2.08735561]),\n",
              " <a list of 10 Patch objects>)"
            ]
          },
          "metadata": {},
          "execution_count": 7
        },
        {
          "output_type": "display_data",
          "data": {
            "text/plain": [
              "<Figure size 432x288 with 1 Axes>"
            ],
            "image/png": "[encoded data removed]"
          },
          "metadata": {
            "needs_background": "light"
          }
        }
      ]
    },
    {
      "cell_type": "code",
      "source": [
        "#uniform distribution\n",
        "ma_uni=np.random.uniform(0,1,20)\n",
        "ma_uni"
      ],
      "metadata": {
        "colab": {
          "base_uri": "https://localhost:8080/"
        },
        "id": "YBX-7nZGtyZc",
        "outputId": "ccbefe24-8535-48d7-8213-b6d75672faaf"
      },
      "execution_count": 8,
      "outputs": [
        {
          "output_type": "execute_result",
          "data": {
            "text/plain": [
              "array([0.2336538 , 0.81615901, 0.21751238, 0.51039195, 0.86879089,\n",
              "       0.78579869, 0.56809713, 0.12255818, 0.71633108, 0.77348847,\n",
              "       0.94386294, 0.92595479, 0.41140951, 0.11713853, 0.78539469,\n",
              "       0.44175904, 0.97856012, 0.91200679, 0.70681264, 0.72616612])"
            ]
          },
          "metadata": {},
          "execution_count": 8
        }
      ]
    },
    {
      "cell_type": "code",
      "source": [
        "plt.hist(ma_uni)"
      ],
      "metadata": {
        "colab": {
          "base_uri": "https://localhost:8080/",
          "height": 352
        },
        "id": "TkW2iUMYtycF",
        "outputId": "598e845b-018e-467a-acf5-7015585b43be"
      },
      "execution_count": 9,
      "outputs": [
        {
          "output_type": "execute_result",
          "data": {
            "text/plain": [
              "(array([2., 2., 0., 2., 1., 1., 2., 4., 2., 4.]),\n",
              " array([0.11713853, 0.20328069, 0.28942284, 0.375565  , 0.46170716,\n",
              "        0.54784932, 0.63399148, 0.72013364, 0.8062758 , 0.89241796,\n",
              "        0.97856012]),\n",
              " <a list of 10 Patch objects>)"
            ]
          },
          "metadata": {},
          "execution_count": 9
        },
        {
          "output_type": "display_data",
          "data": {
            "text/plain": [
              "<Figure size 432x288 with 1 Axes>"
            ],
            "image/png": "[encoded data removed]"
          },
          "metadata": {
            "needs_background": "light"
          }
        }
      ]
    },
    {
      "cell_type": "code",
      "source": [
        "#creamos datos sesgados\n",
        "ma_ses=np.random.lognormal(0,1,20)\n",
        "ma_ses"
      ],
      "metadata": {
        "colab": {
          "base_uri": "https://localhost:8080/"
        },
        "id": "Ddn2TasUtyeo",
        "outputId": "0d1e8be8-4b0a-4fea-c43a-12c1b27caf44"
      },
      "execution_count": 10,
      "outputs": [
        {
          "output_type": "execute_result",
          "data": {
            "text/plain": [
              "array([0.11056562, 0.12810774, 1.05353634, 1.34606359, 1.68768827,\n",
              "       1.74272546, 0.53941352, 0.59866915, 1.37416856, 0.91725905,\n",
              "       0.51279624, 0.62798181, 0.63416699, 0.68741411, 0.29258297,\n",
              "       0.36787642, 2.68081184, 0.86615024, 2.78705787, 1.8525746 ])"
            ]
          },
          "metadata": {},
          "execution_count": 10
        }
      ]
    },
    {
      "cell_type": "code",
      "source": [
        "plt.hist(ma_ses)"
      ],
      "metadata": {
        "colab": {
          "base_uri": "https://localhost:8080/",
          "height": 352
        },
        "id": "qjQmyjc5tyhQ",
        "outputId": "3177ee39-7e19-49b0-95e9-a318438fc455"
      },
      "execution_count": 11,
      "outputs": [
        {
          "output_type": "execute_result",
          "data": {
            "text/plain": [
              "(array([4., 5., 2., 2., 2., 1., 2., 0., 0., 2.]),\n",
              " array([0.11056562, 0.37821485, 0.64586407, 0.9135133 , 1.18116252,\n",
              "        1.44881175, 1.71646097, 1.9841102 , 2.25175942, 2.51940864,\n",
              "        2.78705787]),\n",
              " <a list of 10 Patch objects>)"
            ]
          },
          "metadata": {},
          "execution_count": 11
        },
        {
          "output_type": "display_data",
          "data": {
            "text/plain": [
              "<Figure size 432x288 with 1 Axes>"
            ],
            "image/png": "[encoded data removed]"
          },
          "metadata": {
            "needs_background": "light"
          }
        }
      ]
    },
    {
      "cell_type": "code",
      "source": [
        "#uno las tres distribuciones\n",
        "\n",
        "X_train=np.append([ma_uni],[ma_ses],axis=0)\n",
        "X_train=np.append(X_train,[ma_nor], axis=0)\n",
        "X_train"
      ],
      "metadata": {
        "colab": {
          "base_uri": "https://localhost:8080/"
        },
        "id": "UzDJc91BtykG",
        "outputId": "cb9f9671-6d59-49b1-ff3b-f22e05404515"
      },
      "execution_count": 12,
      "outputs": [
        {
          "output_type": "execute_result",
          "data": {
            "text/plain": [
              "array([[ 0.2336538 ,  0.81615901,  0.21751238,  0.51039195,  0.86879089,\n",
              "         0.78579869,  0.56809713,  0.12255818,  0.71633108,  0.77348847,\n",
              "         0.94386294,  0.92595479,  0.41140951,  0.11713853,  0.78539469,\n",
              "         0.44175904,  0.97856012,  0.91200679,  0.70681264,  0.72616612],\n",
              "       [ 0.11056562,  0.12810774,  1.05353634,  1.34606359,  1.68768827,\n",
              "         1.74272546,  0.53941352,  0.59866915,  1.37416856,  0.91725905,\n",
              "         0.51279624,  0.62798181,  0.63416699,  0.68741411,  0.29258297,\n",
              "         0.36787642,  2.68081184,  0.86615024,  2.78705787,  1.8525746 ],\n",
              "       [-0.4350634 ,  2.08037593,  1.64949448, -1.56684007, -0.2364443 ,\n",
              "         0.31022279, -0.35328313, -0.75303931, -0.57343807,  0.87037066,\n",
              "        -1.08687274,  1.54971571,  0.70477837, -1.48714133, -1.8578482 ,\n",
              "        -1.91084833, -0.40751041,  2.08735561,  0.38419478, -0.06668795]])"
            ]
          },
          "metadata": {},
          "execution_count": 12
        }
      ]
    },
    {
      "cell_type": "code",
      "source": [
        "# Genero una matriz de Pandas de 20 x 3 con las listas. De esta forma evito hacer la transpuesa \n",
        "# cada vez que quiero utilizar el array:\n",
        "df = pd.DataFrame(list(zip(ma_nor, ma_uni, ma_ses)))\n",
        "print(df)"
      ],
      "metadata": {
        "colab": {
          "base_uri": "https://localhost:8080/"
        },
        "id": "bMscJn46uqez",
        "outputId": "eb6a9b55-1601-4001-b85e-1c6fc934316d"
      },
      "execution_count": 13,
      "outputs": [
        {
          "output_type": "stream",
          "name": "stdout",
          "text": [
            "           0         1         2\n",
            "0  -0.435063  0.233654  0.110566\n",
            "1   2.080376  0.816159  0.128108\n",
            "2   1.649494  0.217512  1.053536\n",
            "3  -1.566840  0.510392  1.346064\n",
            "4  -0.236444  0.868791  1.687688\n",
            "5   0.310223  0.785799  1.742725\n",
            "6  -0.353283  0.568097  0.539414\n",
            "7  -0.753039  0.122558  0.598669\n",
            "8  -0.573438  0.716331  1.374169\n",
            "9   0.870371  0.773488  0.917259\n",
            "10 -1.086873  0.943863  0.512796\n",
            "11  1.549716  0.925955  0.627982\n",
            "12  0.704778  0.411410  0.634167\n",
            "13 -1.487141  0.117139  0.687414\n",
            "14 -1.857848  0.785395  0.292583\n",
            "15 -1.910848  0.441759  0.367876\n",
            "16 -0.407510  0.978560  2.680812\n",
            "17  2.087356  0.912007  0.866150\n",
            "18  0.384195  0.706813  2.787058\n",
            "19 -0.066688  0.726166  1.852575\n"
          ]
        }
      ]
    },
    {
      "cell_type": "code",
      "source": [
        "#view basic statistical details\n",
        "df.describe()"
      ],
      "metadata": {
        "colab": {
          "base_uri": "https://localhost:8080/",
          "height": 300
        },
        "id": "V_jb7xaAuqhm",
        "outputId": "de2170be-daab-484e-a1e6-fdf72ed69bb9"
      },
      "execution_count": 14,
      "outputs": [
        {
          "output_type": "execute_result",
          "data": {
            "text/plain": [
              "               0          1          2\n",
              "count  20.000000  20.000000  20.000000\n",
              "mean   -0.054925   0.628092   1.040381\n",
              "std     1.248841   0.282792   0.776522\n",
              "min    -1.910848   0.117139   0.110566\n",
              "25%    -0.836498   0.434172   0.532759\n",
              "50%    -0.294864   0.721249   0.776782\n",
              "75%     0.746176   0.829317   1.452548\n",
              "max     2.087356   0.978560   2.787058"
            ],
            "text/html": [
              "\n",
              "  <div id=\"df-6b12e385-8bde-408d-adcf-8eced7005d05\">\n",
              "    <div class=\"colab-df-container\">\n",
              "      <div>\n",
              "<style scoped>\n",
              "    .dataframe tbody tr th:only-of-type {\n",
              "        vertical-align: middle;\n",
              "    }\n",
              "\n",
              "    .dataframe tbody tr th {\n",
              "        vertical-align: top;\n",
              "    }\n",
              "\n",
              "    .dataframe thead th {\n",
              "        text-align: right;\n",
              "    }\n",
              "</style>\n",
              "<table border=\"1\" class=\"dataframe\">\n",
              "  <thead>\n",
              "    <tr style=\"text-align: right;\">\n",
              "      <th></th>\n",
              "      <th>0</th>\n",
              "      <th>1</th>\n",
              "      <th>2</th>\n",
              "    </tr>\n",
              "  </thead>\n",
              "  <tbody>\n",
              "    <tr>\n",
              "      <th>count</th>\n",
              "      <td>20.000000</td>\n",
              "      <td>20.000000</td>\n",
              "      <td>20.000000</td>\n",
              "    </tr>\n",
              "    <tr>\n",
              "      <th>mean</th>\n",
              "      <td>-0.054925</td>\n",
              "      <td>0.628092</td>\n",
              "      <td>1.040381</td>\n",
              "    </tr>\n",
              "    <tr>\n",
              "      <th>std</th>\n",
              "      <td>1.248841</td>\n",
              "      <td>0.282792</td>\n",
              "      <td>0.776522</td>\n",
              "    </tr>\n",
              "    <tr>\n",
              "      <th>min</th>\n",
              "      <td>-1.910848</td>\n",
              "      <td>0.117139</td>\n",
              "      <td>0.110566</td>\n",
              "    </tr>\n",
              "    <tr>\n",
              "      <th>25%</th>\n",
              "      <td>-0.836498</td>\n",
              "      <td>0.434172</td>\n",
              "      <td>0.532759</td>\n",
              "    </tr>\n",
              "    <tr>\n",
              "      <th>50%</th>\n",
              "      <td>-0.294864</td>\n",
              "      <td>0.721249</td>\n",
              "      <td>0.776782</td>\n",
              "    </tr>\n",
              "    <tr>\n",
              "      <th>75%</th>\n",
              "      <td>0.746176</td>\n",
              "      <td>0.829317</td>\n",
              "      <td>1.452548</td>\n",
              "    </tr>\n",
              "    <tr>\n",
              "      <th>max</th>\n",
              "      <td>2.087356</td>\n",
              "      <td>0.978560</td>\n",
              "      <td>2.787058</td>\n",
              "    </tr>\n",
              "  </tbody>\n",
              "</table>\n",
              "</div>\n",
              "      <button class=\"colab-df-convert\" onclick=\"convertToInteractive('df-6b12e385-8bde-408d-adcf-8eced7005d05')\"\n",
              "              title=\"Convert this dataframe to an interactive table.\"\n",
              "              style=\"display:none;\">\n",
              "        \n",
              "  <svg xmlns=\"http://www.w3.org/2000/svg\" height=\"24px\"viewBox=\"0 0 24 24\"\n",
              "       width=\"24px\">\n",
              "    <path d=\"M0 0h24v24H0V0z\" fill=\"none\"/>\n",
              "    <path d=\"M18.56 5.44l.94 2.06.94-2.06 2.06-.94-2.06-.94-.94-2.06-.94 2.06-2.06.94zm-11 1L8.5 8.5l.94-2.06 2.06-.94-2.06-.94L8.5 2.5l-.94 2.06-2.06.94zm10 10l.94 2.06.94-2.06 2.06-.94-2.06-.94-.94-2.06-.94 2.06-2.06.94z\"/><path d=\"M17.41 7.96l-1.37-1.37c-.4-.4-.92-.59-1.43-.59-.52 0-1.04.2-1.43.59L10.3 9.45l-7.72 7.72c-.78.78-.78 2.05 0 2.83L4 21.41c.39.39.9.59 1.41.59.51 0 1.02-.2 1.41-.59l7.78-7.78 2.81-2.81c.8-.78.8-2.07 0-2.86zM5.41 20L4 18.59l7.72-7.72 1.47 1.35L5.41 20z\"/>\n",
              "  </svg>\n",
              "      </button>\n",
              "      \n",
              "  <style>\n",
              "    .colab-df-container {\n",
              "      display:flex;\n",
              "      flex-wrap:wrap;\n",
              "      gap: 12px;\n",
              "    }\n",
              "\n",
              "    .colab-df-convert {\n",
              "      background-color: #E8F0FE;\n",
              "      border: none;\n",
              "      border-radius: 50%;\n",
              "      cursor: pointer;\n",
              "      display: none;\n",
              "      fill: #1967D2;\n",
              "      height: 32px;\n",
              "      padding: 0 0 0 0;\n",
              "      width: 32px;\n",
              "    }\n",
              "\n",
              "    .colab-df-convert:hover {\n",
              "      background-color: #E2EBFA;\n",
              "      box-shadow: 0px 1px 2px rgba(60, 64, 67, 0.3), 0px 1px 3px 1px rgba(60, 64, 67, 0.15);\n",
              "      fill: #174EA6;\n",
              "    }\n",
              "\n",
              "    [theme=dark] .colab-df-convert {\n",
              "      background-color: #3B4455;\n",
              "      fill: #D2E3FC;\n",
              "    }\n",
              "\n",
              "    [theme=dark] .colab-df-convert:hover {\n",
              "      background-color: #434B5C;\n",
              "      box-shadow: 0px 1px 3px 1px rgba(0, 0, 0, 0.15);\n",
              "      filter: drop-shadow(0px 1px 2px rgba(0, 0, 0, 0.3));\n",
              "      fill: #FFFFFF;\n",
              "    }\n",
              "  </style>\n",
              "\n",
              "      <script>\n",
              "        const buttonEl =\n",
              "          document.querySelector('#df-6b12e385-8bde-408d-adcf-8eced7005d05 button.colab-df-convert');\n",
              "        buttonEl.style.display =\n",
              "          google.colab.kernel.accessAllowed ? 'block' : 'none';\n",
              "\n",
              "        async function convertToInteractive(key) {\n",
              "          const element = document.querySelector('#df-6b12e385-8bde-408d-adcf-8eced7005d05');\n",
              "          const dataTable =\n",
              "            await google.colab.kernel.invokeFunction('convertToInteractive',\n",
              "                                                     [key], {});\n",
              "          if (!dataTable) return;\n",
              "\n",
              "          const docLinkHtml = 'Like what you see? Visit the ' +\n",
              "            '<a target=\"_blank\" href=https://colab.research.google.com/notebooks/data_table.ipynb>data table notebook</a>'\n",
              "            + ' to learn more about interactive tables.';\n",
              "          element.innerHTML = '';\n",
              "          dataTable['output_type'] = 'display_data';\n",
              "          await google.colab.output.renderOutput(dataTable, element);\n",
              "          const docLink = document.createElement('div');\n",
              "          docLink.innerHTML = docLinkHtml;\n",
              "          element.appendChild(docLink);\n",
              "        }\n",
              "      </script>\n",
              "    </div>\n",
              "  </div>\n",
              "  "
            ]
          },
          "metadata": {},
          "execution_count": 14
        }
      ]
    },
    {
      "cell_type": "code",
      "source": [
        "# Convierto el dataframe en un array de numpy para usar como X_train:\n",
        "X_np = df.to_numpy()\n",
        "X_np"
      ],
      "metadata": {
        "colab": {
          "base_uri": "https://localhost:8080/"
        },
        "id": "wpuuoAmSuqkf",
        "outputId": "257445b5-8ac8-426c-8831-514f648729e2"
      },
      "execution_count": 15,
      "outputs": [
        {
          "output_type": "execute_result",
          "data": {
            "text/plain": [
              "array([[-0.4350634 ,  0.2336538 ,  0.11056562],\n",
              "       [ 2.08037593,  0.81615901,  0.12810774],\n",
              "       [ 1.64949448,  0.21751238,  1.05353634],\n",
              "       [-1.56684007,  0.51039195,  1.34606359],\n",
              "       [-0.2364443 ,  0.86879089,  1.68768827],\n",
              "       [ 0.31022279,  0.78579869,  1.74272546],\n",
              "       [-0.35328313,  0.56809713,  0.53941352],\n",
              "       [-0.75303931,  0.12255818,  0.59866915],\n",
              "       [-0.57343807,  0.71633108,  1.37416856],\n",
              "       [ 0.87037066,  0.77348847,  0.91725905],\n",
              "       [-1.08687274,  0.94386294,  0.51279624],\n",
              "       [ 1.54971571,  0.92595479,  0.62798181],\n",
              "       [ 0.70477837,  0.41140951,  0.63416699],\n",
              "       [-1.48714133,  0.11713853,  0.68741411],\n",
              "       [-1.8578482 ,  0.78539469,  0.29258297],\n",
              "       [-1.91084833,  0.44175904,  0.36787642],\n",
              "       [-0.40751041,  0.97856012,  2.68081184],\n",
              "       [ 2.08735561,  0.91200679,  0.86615024],\n",
              "       [ 0.38419478,  0.70681264,  2.78705787],\n",
              "       [-0.06668795,  0.72616612,  1.8525746 ]])"
            ]
          },
          "metadata": {},
          "execution_count": 15
        }
      ]
    },
    {
      "cell_type": "code",
      "source": [
        "# array de 20 x 1 para y_train:\n",
        "y_np = np.array([0,0,0,0,0,0,0,0,0,0,1,1,1,1,1,1,1,1,1,1])\n",
        "y_np"
      ],
      "metadata": {
        "colab": {
          "base_uri": "https://localhost:8080/"
        },
        "id": "MtQPbaRLuqnF",
        "outputId": "8747ec18-280f-40f3-cb75-c3aada5c4af8"
      },
      "execution_count": 16,
      "outputs": [
        {
          "output_type": "execute_result",
          "data": {
            "text/plain": [
              "array([0, 0, 0, 0, 0, 0, 0, 0, 0, 0, 1, 1, 1, 1, 1, 1, 1, 1, 1, 1])"
            ]
          },
          "metadata": {},
          "execution_count": 16
        }
      ]
    },
    {
      "cell_type": "code",
      "source": [
        "# Separo en grupos de entrenamiento y testeo.\n",
        "X_train, X_test, y_train, y_test = train_test_split(X_np,y_np,test_size=0.2)"
      ],
      "metadata": {
        "id": "Vh9lazqXuqqD"
      },
      "execution_count": 17,
      "outputs": []
    },
    {
      "cell_type": "code",
      "source": [
        "# muestro los tamaños de los sets que separé para entrenar y testear el modelo\n",
        "print('X_train:',len(X_train))\n",
        "print('X_test:  ',len(X_test))\n",
        "print('y_train:',len(y_train))\n",
        "print('y_test:  ',len(y_test))"
      ],
      "metadata": {
        "colab": {
          "base_uri": "https://localhost:8080/"
        },
        "id": "x_ZEbrbVtym5",
        "outputId": "af210c5d-1de1-484c-e28a-5e9c1708ef6b"
      },
      "execution_count": 18,
      "outputs": [
        {
          "output_type": "stream",
          "name": "stdout",
          "text": [
            "X_train: 16\n",
            "X_test:   4\n",
            "y_train: 16\n",
            "y_test:   4\n"
          ]
        }
      ]
    },
    {
      "cell_type": "code",
      "source": [
        "# draw boxplots to visualize outliers.\n",
        "plt.figure(figsize=(15,10))\n",
        "plt.subplot(2, 2, 1)\n",
        "fig = df.boxplot(column=0)\n",
        "fig.set_title('')\n",
        "fig.set_ylabel('Distribución Normal')"
      ],
      "metadata": {
        "colab": {
          "base_uri": "https://localhost:8080/",
          "height": 312
        },
        "id": "HKCVyP7utA6A",
        "outputId": "e321a4f5-ca24-4c4a-aecd-ea803ef0b10d"
      },
      "execution_count": 19,
      "outputs": [
        {
          "output_type": "execute_result",
          "data": {
            "text/plain": [
              "Text(0, 0.5, 'Distribución Normal')"
            ]
          },
          "metadata": {},
          "execution_count": 19
        },
        {
          "output_type": "display_data",
          "data": {
            "text/plain": [
              "<Figure size 1080x720 with 1 Axes>"
            ],
            "image/png": "[encoded data removed]"
          },
          "metadata": {
            "needs_background": "light"
          }
        }
      ]
    },
    {
      "cell_type": "code",
      "source": [
        "# draw boxplots to visualize outliers.\n",
        "plt.figure(figsize=(15,10))\n",
        "plt.subplot(2, 2, 1)\n",
        "fig = df.boxplot(column=1)\n",
        "fig.set_title('')\n",
        "fig.set_ylabel('Distribución Uniforme')"
      ],
      "metadata": {
        "colab": {
          "base_uri": "https://localhost:8080/",
          "height": 312
        },
        "id": "CUn4ighBtA8s",
        "outputId": "5e6e3659-8349-4e65-f891-c4601b360932"
      },
      "execution_count": 20,
      "outputs": [
        {
          "output_type": "execute_result",
          "data": {
            "text/plain": [
              "Text(0, 0.5, 'Distribución Uniforme')"
            ]
          },
          "metadata": {},
          "execution_count": 20
        },
        {
          "output_type": "display_data",
          "data": {
            "text/plain": [
              "<Figure size 1080x720 with 1 Axes>"
            ],
            "image/png": "[encoded data removed]"
          },
          "metadata": {
            "needs_background": "light"
          }
        }
      ]
    },
    {
      "cell_type": "code",
      "source": [
        "# draw boxplots to visualize outliers.\n",
        "plt.figure(figsize=(15,10))\n",
        "plt.subplot(2, 2, 1)\n",
        "fig = df.boxplot(column=2)\n",
        "fig.set_title('')\n",
        "fig.set_ylabel('Distribución Sesgada')"
      ],
      "metadata": {
        "colab": {
          "base_uri": "https://localhost:8080/",
          "height": 312
        },
        "id": "957ziaJzvJsA",
        "outputId": "6bc8eb51-e677-48f4-e22a-36f3d0bd3c98"
      },
      "execution_count": 21,
      "outputs": [
        {
          "output_type": "execute_result",
          "data": {
            "text/plain": [
              "Text(0, 0.5, 'Distribución Sesgada')"
            ]
          },
          "metadata": {},
          "execution_count": 21
        },
        {
          "output_type": "display_data",
          "data": {
            "text/plain": [
              "<Figure size 1080x720 with 1 Axes>"
            ],
            "image/png": "[encoded data removed]"
          },
          "metadata": {
            "needs_background": "light"
          }
        }
      ]
    },
    {
      "cell_type": "code",
      "source": [
        "from sklearn.preprocessing import StandardScaler"
      ],
      "metadata": {
        "id": "NLxSEsgQvJvY"
      },
      "execution_count": 22,
      "outputs": []
    },
    {
      "cell_type": "code",
      "source": [
        "escalar = StandardScaler()"
      ],
      "metadata": {
        "id": "te3z52pzvJyt"
      },
      "execution_count": 23,
      "outputs": []
    },
    {
      "cell_type": "code",
      "source": [
        "#fit_transform, esta instrucción realiza el calculo respectivo y a su vez transforma y devuelve los datos ya escalados.\n",
        "X_train = escalar.fit_transform(X_train)\n",
        "X_test = escalar.transform(X_test)"
      ],
      "metadata": {
        "id": "r-r6CU1uvX9B"
      },
      "execution_count": 24,
      "outputs": []
    },
    {
      "cell_type": "code",
      "source": [
        "#Defino el algoritmo a utilizar\n",
        "algoritmo = LogisticRegression()"
      ],
      "metadata": {
        "id": "TP7vpmlBvX_7"
      },
      "execution_count": 25,
      "outputs": []
    },
    {
      "cell_type": "code",
      "source": [
        "#the model is trained using the fit instruction and both \"X\" and \"y\" training data\n",
        "\n",
        "algoritmo.fit(X_train, y_train)"
      ],
      "metadata": {
        "colab": {
          "base_uri": "https://localhost:8080/"
        },
        "id": "XgOa3gRzvYCs",
        "outputId": "a726d1ac-f2aa-4ba3-9ed5-b81fc83d9522"
      },
      "execution_count": 26,
      "outputs": [
        {
          "output_type": "execute_result",
          "data": {
            "text/plain": [
              "LogisticRegression()"
            ]
          },
          "metadata": {},
          "execution_count": 26
        }
      ]
    },
    {
      "cell_type": "code",
      "source": [
        "#the prediction is performed, using the predict instruction and the test data\n",
        "y_pred = algoritmo.predict(X_test)\n",
        "y_pred"
      ],
      "metadata": {
        "colab": {
          "base_uri": "https://localhost:8080/"
        },
        "id": "jqJa9HkvvYFq",
        "outputId": "6326f14a-343e-45c9-81b8-6d1b2eeb739b"
      },
      "execution_count": 27,
      "outputs": [
        {
          "output_type": "execute_result",
          "data": {
            "text/plain": [
              "array([0, 0, 0, 1])"
            ]
          },
          "metadata": {},
          "execution_count": 27
        }
      ]
    },
    {
      "cell_type": "code",
      "source": [
        "#confusion matrix\n",
        "from sklearn.metrics import confusion_matrix\n",
        "matriz = confusion_matrix(y_test, y_pred)\n",
        "print('Matriz de Confusión:')\n",
        "print(matriz)"
      ],
      "metadata": {
        "colab": {
          "base_uri": "https://localhost:8080/"
        },
        "id": "MD_KkVTVvJ1t",
        "outputId": "08eb44e8-8fa4-4a79-d620-edd564b580f3"
      },
      "execution_count": 29,
      "outputs": [
        {
          "output_type": "stream",
          "name": "stdout",
          "text": [
            "Matriz de Confusión:\n",
            "[[2 0]\n",
            " [1 1]]\n"
          ]
        }
      ]
    },
    {
      "cell_type": "code",
      "source": [
        "#confusion matrix plot\n",
        "matrix = pd.DataFrame(data=matriz, columns=['Actual Positive:1', 'Actual Negative:0'], \n",
        "                                 index=['Predict Positive:1', 'Predict Negative:0'])\n",
        "sns.heatmap(matrix, annot=True, fmt='d', cmap='YlGnBu')"
      ],
      "metadata": {
        "colab": {
          "base_uri": "https://localhost:8080/",
          "height": 286
        },
        "id": "7D3X9FbDvJ5K",
        "outputId": "90eb68e0-1814-470b-9097-901c9b3ae605"
      },
      "execution_count": 30,
      "outputs": [
        {
          "output_type": "execute_result",
          "data": {
            "text/plain": [
              "<matplotlib.axes._subplots.AxesSubplot at 0x7fe311c22310>"
            ]
          },
          "metadata": {},
          "execution_count": 30
        },
        {
          "output_type": "display_data",
          "data": {
            "text/plain": [
              "<Figure size 432x288 with 2 Axes>"
            ],
            "image/png": "[encoded data removed]"
          },
          "metadata": {
            "needs_background": "light"
          }
        }
      ]
    },
    {
      "cell_type": "markdown",
      "source": [
        "-- Cantidad de datos que el modelo no predijo correctamente.\n",
        "\n",
        "*La matriz nos indica que cuenta con 2 datos verdaderos positivos, es decir datos que en los datos reales eran 1 y el modelo los predijo bien.\n",
        "\n",
        "*Por su parte es 1 el dato verdadero negativo, esto quiere decir datos reales que eran 0 y el modelo los predijo como tal.\n",
        "\n",
        "-- Veamos ahora la cantidad de datos que el modelo no predijo correctamente. \n",
        "\n",
        "*Comencemos con los datos falsos negativos, en total fue de 0.\n",
        "\n",
        "*En cuanto a los datos falsos positivos fue solamente 1 solo dato, que era en realidad 0 y el modelo lo predijo como 1."
      ],
      "metadata": {
        "id": "hGnwWUr-wu09"
      }
    },
    {
      "cell_type": "markdown",
      "source": [
        "-------------------------------------------------------------------------\n",
        "\n",
        "Calculemos ahora todas las métricas que podemos evaluar para los modelos de clasificación.\n",
        "\n",
        "Para calcular la precisión del algoritmo utilizamos la librería metrics de scikit-learn e importamos precision_score, y la implementamos junto con los datos reales y los que hemos obtenidos utilizando el modelo.\n"
      ],
      "metadata": {
        "id": "_XECEuckxsBa"
      }
    },
    {
      "cell_type": "code",
      "source": [
        "#the accuracy of the model is calculated\n",
        "from sklearn.metrics import precision_score\n",
        "precision = precision_score(y_test, y_pred)\n",
        "print('Precisión del modelo:')\n",
        "print(precision)"
      ],
      "metadata": {
        "colab": {
          "base_uri": "https://localhost:8080/"
        },
        "id": "3IB1ycMyxoSG",
        "outputId": "dc839198-69e1-4b0e-fd6c-8b823c904a8a"
      },
      "execution_count": 31,
      "outputs": [
        {
          "output_type": "stream",
          "name": "stdout",
          "text": [
            "Precisión del modelo:\n",
            "1.0\n"
          ]
        }
      ]
    },
    {
      "cell_type": "markdown",
      "source": [
        "--------------------------------------------------------------------------------\n",
        "\n",
        "Calculemos ahora la exactitud del modelo, por lo que debemos ahora importar accuracy_score, de la misma librería de metrics."
      ],
      "metadata": {
        "id": "73njuNjFyGJI"
      }
    },
    {
      "cell_type": "code",
      "source": [
        "#Calculo la exactitud del modelo\n",
        "from sklearn.metrics import accuracy_score\n",
        "exactitud = accuracy_score(y_test, y_pred)\n",
        "print('Exactitud del modelo:')\n",
        "print(exactitud)"
      ],
      "metadata": {
        "colab": {
          "base_uri": "https://localhost:8080/"
        },
        "id": "Lt8RG8cLxoby",
        "outputId": "9b623bf0-c996-4c13-88b3-9e8dd9f98fef"
      },
      "execution_count": 32,
      "outputs": [
        {
          "output_type": "stream",
          "name": "stdout",
          "text": [
            "Exactitud del modelo:\n",
            "0.75\n"
          ]
        }
      ]
    },
    {
      "cell_type": "markdown",
      "source": [
        "--------------------------------------------------------------------------------\n",
        "Veamos ahora la sensibilidad o lo que también se le conoce como recall del algoritmo, para ello importamos recall_score."
      ],
      "metadata": {
        "id": "3cqlspRgySDa"
      }
    },
    {
      "cell_type": "code",
      "source": [
        "#Calculo la sensibilidad del modelo\n",
        "from sklearn.metrics import recall_score\n",
        "sensibilidad = recall_score(y_test, y_pred)\n",
        "print('Sensibilidad del modelo:')\n",
        "print(sensibilidad)"
      ],
      "metadata": {
        "colab": {
          "base_uri": "https://localhost:8080/"
        },
        "id": "_LCikkNPyS61",
        "outputId": "2be6621c-5622-4bcb-9846-92d543dedecc"
      },
      "execution_count": 33,
      "outputs": [
        {
          "output_type": "stream",
          "name": "stdout",
          "text": [
            "Sensibilidad del modelo:\n",
            "0.5\n"
          ]
        }
      ]
    },
    {
      "cell_type": "markdown",
      "source": [
        "------------------------------------------------------------------------------\n",
        "Calculemos ahora el puntaje F1 que es una combinación entre la precisión y la sensibilidad, para esto importamos f1_score."
      ],
      "metadata": {
        "id": "qFoR59Mnyi2s"
      }
    },
    {
      "cell_type": "code",
      "source": [
        "#Calculo el Puntaje F1 del modelo\n",
        "from sklearn.metrics import f1_score\n",
        "puntajef1 = f1_score(y_test, y_pred)\n",
        "print('Puntaje F1 del modelo:')\n",
        "print(puntajef1)"
      ],
      "metadata": {
        "colab": {
          "base_uri": "https://localhost:8080/"
        },
        "id": "HwSUEJbWyTIK",
        "outputId": "1203d837-1760-4306-9039-cb159391b5b0"
      },
      "execution_count": 34,
      "outputs": [
        {
          "output_type": "stream",
          "name": "stdout",
          "text": [
            "Puntaje F1 del modelo:\n",
            "0.6666666666666666\n"
          ]
        }
      ]
    },
    {
      "cell_type": "code",
      "source": [
        ""
      ],
      "metadata": {
        "id": "zQuhT8FlyTLF"
      },
      "execution_count": null,
      "outputs": []
    },
    {
      "cell_type": "code",
      "source": [
        ""
      ],
      "metadata": {
        "id": "gw7irUCPyTOG"
      },
      "execution_count": null,
      "outputs": []
    }
  ]
}