{
  "nbformat": 4,
  "nbformat_minor": 0,
  "metadata": {
    "colab": {
      "name": "SituacionP_LogisticRegression_CG_200.ipynb",
      "provenance": [],
      "collapsed_sections": [],
      "authorship_tag": "ABX9TyMLzRc/IzVvMyAIT4cSlvxC"
    },
    "kernelspec": {
      "name": "python3",
      "display_name": "Python 3"
    },
    "language_info": {
      "name": "python"
    }
  },
  "cells": [
    {
      "cell_type": "markdown",
      "source": [
        "Situación Profesional Logistic Regression Model\n",
        "\n",
        "https://www.kaggle.com/code/prashant111/logistic-regression-classifier-tutorial/notebook#9.-Split-data-into-separate-training-and-test-set-\n",
        "\n",
        "Profesor: Ing. Narciso Pérez\n",
        "\n",
        "Alumna: Carina Giovine\n",
        "\n",
        "Tecnicatura en Cs de Ds e IA - Cohorte 2020.\n",
        "\n",
        "SEGUNDA PARTE DE MATRIC DE 200 ELEMENTOS"
      ],
      "metadata": {
        "id": "SDg5bLN4z8XR"
      }
    },
    {
      "cell_type": "code",
      "source": [
        "import numpy as np # linear algebra\n",
        "import pandas as pd \n",
        "import matplotlib.pyplot as plt # data visualization\n",
        "import seaborn as sns # statistical data visualization\n",
        "# Preprocesado, modelado y métricas:\n",
        "from sklearn.model_selection import train_test_split \n",
        "from sklearn.linear_model import LogisticRegression\n",
        "from sklearn.metrics import accuracy_score\n",
        "from sklearn.metrics import confusion_matrix\n",
        "from sklearn.metrics import classification_report\n",
        "%matplotlib inline"
      ],
      "metadata": {
        "id": "NIUG7j6Dz-OF"
      },
      "execution_count": 1,
      "outputs": []
    },
    {
      "cell_type": "code",
      "source": [
        "#generar muestra de 200 valores que siguen una distribución normal\n",
        "ma_nor=np.random.normal(0,1,200)\n",
        "ma_nor"
      ],
      "metadata": {
        "colab": {
          "base_uri": "https://localhost:8080/"
        },
        "id": "ha5ZDX_5z-Ya",
        "outputId": "f7534ff0-a019-4f39-f7ed-6e2459f60076"
      },
      "execution_count": 2,
      "outputs": [
        {
          "output_type": "execute_result",
          "data": {
            "text/plain": [
              "array([-0.54699432,  0.36318465, -0.45157955, -0.86148084, -2.07401944,\n",
              "       -0.96668495,  0.98784299,  1.40822719,  0.18487564, -0.77343178,\n",
              "       -0.79967169, -0.63062743, -0.49210404, -2.12786481, -1.22438754,\n",
              "       -0.60027163, -1.73197039,  0.17603778,  0.86405544, -0.33867354,\n",
              "       -0.01733092,  0.05893925, -0.75304264, -0.53357476,  0.51992231,\n",
              "        1.38131136,  0.51888417, -0.66175129, -1.91036559,  0.61624776,\n",
              "       -0.46209532,  1.07680032, -2.2878672 ,  0.06897267,  0.45512306,\n",
              "       -0.23285419,  0.47590811, -1.38648292,  0.10372251,  0.19791787,\n",
              "       -0.3179054 ,  2.07786689, -0.31026047, -0.18021553, -1.4754952 ,\n",
              "       -0.36571009, -0.27306445, -0.88744109, -0.26252818,  0.80719042,\n",
              "        0.82057244, -2.00239942, -0.60057054, -0.18110631, -1.10946883,\n",
              "        0.6322098 ,  0.38001899, -0.40378439,  0.04732663, -0.16701614,\n",
              "        0.12421421,  1.25114467,  0.57169679, -0.20388998, -0.10922993,\n",
              "        1.03018348,  0.99101832, -0.14079902,  0.60254494,  1.00536961,\n",
              "        0.2230605 ,  1.85135942,  1.1632231 ,  1.17939729, -0.27824584,\n",
              "        0.62850187, -0.43197806,  0.37595021,  0.49408957, -0.49951068,\n",
              "        0.23096052, -0.50239821, -1.71457299, -0.32430127,  0.11914424,\n",
              "       -0.19362016, -0.53605385,  0.43035889,  0.34337493,  1.23672877,\n",
              "        1.14102639, -0.92517093, -0.69864892,  0.68905439,  0.14079805,\n",
              "       -1.35561554,  0.31910903,  0.11192796,  0.47113199, -1.68375024,\n",
              "        0.8052849 ,  1.42039652,  1.11340343,  1.57961636, -1.49449763,\n",
              "        1.70651582, -0.1493623 ,  0.26810611,  1.0056849 ,  0.789771  ,\n",
              "        2.10186491, -0.9507236 , -0.02975886,  0.22313163, -1.36091746,\n",
              "        0.18818082, -0.53005826,  0.71764388, -0.13108681,  0.09215753,\n",
              "        0.4921373 , -1.85203128,  1.80370241, -0.09915239, -0.41478283,\n",
              "       -0.7609331 , -1.1142323 ,  0.40997573,  0.75947111,  0.08515302,\n",
              "        1.0631    ,  0.56268106, -0.94180322, -1.89752655,  0.74970133,\n",
              "        1.11756074, -1.85890302,  0.97779319,  0.53089638, -0.51905616,\n",
              "        0.72702487, -1.95600592,  1.29902448, -0.26524306, -0.80920649,\n",
              "       -0.14769288, -1.1285513 , -0.29981724, -0.21008851,  1.60359283,\n",
              "        0.1384622 , -1.46337619, -1.06373368, -0.23672603, -2.57818358,\n",
              "       -0.05361422,  1.38555152, -1.05451082, -0.99133055, -0.1698352 ,\n",
              "        0.75281938,  0.43749052, -1.64715655,  1.0064565 ,  0.51494245,\n",
              "       -0.61883389,  0.57175162, -0.30252777,  0.20589901, -1.04303925,\n",
              "        1.28291608,  0.27472662,  1.03554305,  0.59503517,  0.20094723,\n",
              "       -0.00267021,  1.41251608, -0.80402726, -0.57050755,  0.62211318,\n",
              "        0.27011492, -1.01529935, -0.63272544, -0.33847463,  0.18434806,\n",
              "       -0.21881838,  1.01298947, -0.66660907,  0.88730202,  1.44560312,\n",
              "       -1.4051269 , -1.79837482,  0.75670626,  0.88505514, -0.97789425,\n",
              "       -1.02423326, -1.46843599,  1.28441871,  0.02800916,  0.42030885])"
            ]
          },
          "metadata": {},
          "execution_count": 2
        }
      ]
    },
    {
      "cell_type": "code",
      "source": [
        "#Media\n",
        "media= np.mean(ma_nor)\n",
        "media"
      ],
      "metadata": {
        "colab": {
          "base_uri": "https://localhost:8080/"
        },
        "id": "QmmAoBvAz-bV",
        "outputId": "fd8b917e-a1e2-4a76-e80c-0ba67435e6f8"
      },
      "execution_count": 3,
      "outputs": [
        {
          "output_type": "execute_result",
          "data": {
            "text/plain": [
              "-0.04156624264399399"
            ]
          },
          "metadata": {},
          "execution_count": 3
        }
      ]
    },
    {
      "cell_type": "code",
      "source": [
        "# Standard Deviation\n",
        "r2 = np.std(ma_nor)\n",
        "r2"
      ],
      "metadata": {
        "colab": {
          "base_uri": "https://localhost:8080/"
        },
        "id": "V1_5kMHHz-d8",
        "outputId": "ee5f507d-e20b-4732-94b2-c983791d7fce"
      },
      "execution_count": 4,
      "outputs": [
        {
          "output_type": "execute_result",
          "data": {
            "text/plain": [
              "0.9505557259886019"
            ]
          },
          "metadata": {},
          "execution_count": 4
        }
      ]
    },
    {
      "cell_type": "code",
      "source": [
        "# Calculo la varianza del array con distribución normal:\n",
        "varianza = np.var(ma_nor)\n",
        "varianza"
      ],
      "metadata": {
        "colab": {
          "base_uri": "https://localhost:8080/"
        },
        "id": "gS10AWxV0W4E",
        "outputId": "51d04834-be0e-4721-9e02-0fd68542ba25"
      },
      "execution_count": 5,
      "outputs": [
        {
          "output_type": "execute_result",
          "data": {
            "text/plain": [
              "0.9035561882097182"
            ]
          },
          "metadata": {},
          "execution_count": 5
        }
      ]
    },
    {
      "cell_type": "code",
      "source": [
        "plt.hist(ma_nor)"
      ],
      "metadata": {
        "colab": {
          "base_uri": "https://localhost:8080/",
          "height": 352
        },
        "id": "LoaTugu_0W7n",
        "outputId": "ef18aa7c-f000-45c5-f82b-16f997a1028a"
      },
      "execution_count": 6,
      "outputs": [
        {
          "output_type": "execute_result",
          "data": {
            "text/plain": [
              "(array([ 3., 12.,  9., 22., 34., 41., 32., 28., 14.,  5.]),\n",
              " array([-2.57818358, -2.11017873, -1.64217388, -1.17416903, -0.70616418,\n",
              "        -0.23815933,  0.22984551,  0.69785036,  1.16585521,  1.63386006,\n",
              "         2.10186491]),\n",
              " <a list of 10 Patch objects>)"
            ]
          },
          "metadata": {},
          "execution_count": 6
        },
        {
          "output_type": "display_data",
          "data": {
            "text/plain": [
              "<Figure size 432x288 with 1 Axes>"
            ],
            "image/png": "[encoded data removed]"
          },
          "metadata": {
            "needs_background": "light"
          }
        }
      ]
    },
    {
      "cell_type": "code",
      "source": [
        "#uniform distribution - generar muestra de 200 valores que siguen una distribución uniforme\n",
        "ma_uni=np.random.uniform(0,1,200)\n",
        "ma_uni"
      ],
      "metadata": {
        "colab": {
          "base_uri": "https://localhost:8080/"
        },
        "id": "4O6nZla60W-h",
        "outputId": "9eb15e42-ecf3-4cda-a36d-161da2e62e44"
      },
      "execution_count": 7,
      "outputs": [
        {
          "output_type": "execute_result",
          "data": {
            "text/plain": [
              "array([0.41425183, 0.25801994, 0.2789936 , 0.81804966, 0.59110084,\n",
              "       0.93858415, 0.78695665, 0.794133  , 0.0785093 , 0.40829085,\n",
              "       0.39945666, 0.83401098, 0.64031416, 0.7225634 , 0.54146993,\n",
              "       0.54514609, 0.4198896 , 0.55879918, 0.79481522, 0.53050893,\n",
              "       0.70642362, 0.19295603, 0.28830153, 0.17932391, 0.42419   ,\n",
              "       0.91973455, 0.92778518, 0.49487547, 0.81225609, 0.97424915,\n",
              "       0.5898806 , 0.6673383 , 0.33668208, 0.44050224, 0.27265179,\n",
              "       0.31985184, 0.48998549, 0.60561352, 0.37501547, 0.24298024,\n",
              "       0.51536304, 0.31729747, 0.2119183 , 0.03102426, 0.47340558,\n",
              "       0.77249161, 0.53331377, 0.32092881, 0.90954668, 0.01538669,\n",
              "       0.77259804, 0.06750505, 0.54464748, 0.89045953, 0.55950744,\n",
              "       0.12578261, 0.81283777, 0.85918401, 0.27229672, 0.39652907,\n",
              "       0.28373068, 0.66457266, 0.1615812 , 0.57682451, 0.2702793 ,\n",
              "       0.31619143, 0.68497005, 0.77411076, 0.82962559, 0.24489699,\n",
              "       0.32820379, 0.05550902, 0.41317936, 0.03313874, 0.22034592,\n",
              "       0.83706762, 0.27838875, 0.67281577, 0.57734918, 0.95081409,\n",
              "       0.18201749, 0.60456321, 0.40303699, 0.42348345, 0.7795686 ,\n",
              "       0.88932425, 0.92201338, 0.70856603, 0.39989275, 0.83479576,\n",
              "       0.0832805 , 0.29994749, 0.19530337, 0.36090299, 0.09693169,\n",
              "       0.22130499, 0.35122975, 0.50363252, 0.05395285, 0.93731521,\n",
              "       0.73188275, 0.5969225 , 0.17407244, 0.595879  , 0.61935284,\n",
              "       0.30837913, 0.45673115, 0.51228495, 0.73728225, 0.4989104 ,\n",
              "       0.48738768, 0.60472578, 0.72573216, 0.28993715, 0.71099352,\n",
              "       0.79559388, 0.07147132, 0.12940055, 0.98761746, 0.8131914 ,\n",
              "       0.58608549, 0.59508184, 0.09549803, 0.78147446, 0.92784524,\n",
              "       0.52076704, 0.57108699, 0.26084821, 0.17085345, 0.97194377,\n",
              "       0.5759151 , 0.04919772, 0.65313894, 0.82315259, 0.08617764,\n",
              "       0.10737926, 0.95349261, 0.60042911, 0.7337556 , 0.07174261,\n",
              "       0.4819925 , 0.74716341, 0.73872378, 0.89323538, 0.79565733,\n",
              "       0.64755258, 0.59589313, 0.09668127, 0.08734275, 0.9233792 ,\n",
              "       0.00445537, 0.76660542, 0.77280994, 0.16142718, 0.64448284,\n",
              "       0.51848732, 0.94299793, 0.65211689, 0.79226526, 0.30530227,\n",
              "       0.85222262, 0.75193389, 0.83458943, 0.62641361, 0.57692558,\n",
              "       0.75677721, 0.07106068, 0.98865896, 0.84701675, 0.47361446,\n",
              "       0.51085069, 0.39340918, 0.51845815, 0.1192871 , 0.35423139,\n",
              "       0.64730871, 0.86626174, 0.83477319, 0.43119245, 0.1643795 ,\n",
              "       0.18777318, 0.62161586, 0.12274499, 0.07986202, 0.82545111,\n",
              "       0.65502365, 0.12210624, 0.8157493 , 0.72579665, 0.06152361,\n",
              "       0.73997096, 0.13339874, 0.36026284, 0.11195957, 0.90937372,\n",
              "       0.58097184, 0.08378564, 0.92496288, 0.6287362 , 0.70810259])"
            ]
          },
          "metadata": {},
          "execution_count": 7
        }
      ]
    },
    {
      "cell_type": "code",
      "source": [
        "plt.hist(ma_uni)"
      ],
      "metadata": {
        "colab": {
          "base_uri": "https://localhost:8080/",
          "height": 355
        },
        "id": "Y0cURttg0XBm",
        "outputId": "0957ca15-1315-4188-8ea9-6078360f0020"
      },
      "execution_count": 8,
      "outputs": [
        {
          "output_type": "execute_result",
          "data": {
            "text/plain": [
              "(array([21., 18., 15., 16., 18., 24., 23., 23., 23., 19.]),\n",
              " array([0.00445537, 0.10287573, 0.20129609, 0.29971645, 0.3981368 ,\n",
              "        0.49655716, 0.59497752, 0.69339788, 0.79181824, 0.8902386 ,\n",
              "        0.98865896]),\n",
              " <a list of 10 Patch objects>)"
            ]
          },
          "metadata": {},
          "execution_count": 8
        },
        {
          "output_type": "display_data",
          "data": {
            "text/plain": [
              "<Figure size 432x288 with 1 Axes>"
            ],
            "image/png": "[encoded data removed]"
          },
          "metadata": {
            "needs_background": "light"
          }
        }
      ]
    },
    {
      "cell_type": "code",
      "source": [
        "#creamos datos sesgados\n",
        "ma_ses=np.random.lognormal(0,1,200)\n",
        "ma_ses"
      ],
      "metadata": {
        "colab": {
          "base_uri": "https://localhost:8080/"
        },
        "id": "ZadH-clUz-gk",
        "outputId": "07360ccc-bd96-489f-a0b0-78e89fa0f589"
      },
      "execution_count": 9,
      "outputs": [
        {
          "output_type": "execute_result",
          "data": {
            "text/plain": [
              "array([ 1.70199163,  3.28595051,  1.13383426,  4.04951284,  0.62250083,\n",
              "        2.36654041,  2.82522713,  0.41511491,  0.07847193,  2.71099908,\n",
              "        2.0699031 ,  1.20123564,  1.40171133,  0.54960902,  1.43742695,\n",
              "        1.02508754,  1.46853028,  8.436921  ,  1.11002789,  1.26901732,\n",
              "        0.28262182,  0.40829383,  0.40446411,  0.83233773,  0.95446514,\n",
              "        3.74135176,  0.42170032,  1.64049208,  0.55991457,  2.90961452,\n",
              "        0.54359059,  2.140591  ,  0.64795576,  1.49176847,  0.77994254,\n",
              "       13.22620213,  0.89490986,  0.45266251,  1.27313202,  1.19996909,\n",
              "        0.424478  ,  2.29066333,  0.05179697,  0.21114922,  0.76407254,\n",
              "        0.28476684,  1.26266225,  1.93569089,  2.16821528,  2.64427623,\n",
              "        0.34131761,  0.51837084,  0.62748905,  1.34686788,  0.1249901 ,\n",
              "       11.11871331,  1.59540729,  1.57748682,  3.57330535,  0.15554486,\n",
              "        0.6013332 ,  0.57377226,  0.80866341,  0.41637991,  0.08020215,\n",
              "        1.81808729,  0.39912148,  2.95907748,  2.63790398,  2.82761413,\n",
              "        0.35443914,  0.06729285,  2.10097151,  1.58039841,  0.67593958,\n",
              "        2.15276693,  0.8776619 ,  1.30957115,  0.47109287,  1.07695914,\n",
              "        2.98244123,  0.83291874,  2.38028913,  0.90715071,  0.41558189,\n",
              "        0.28994532,  0.49260023,  1.27432891,  0.42946885,  4.2338545 ,\n",
              "        0.37870078,  1.00382354,  0.66507885,  0.49337222,  0.28929485,\n",
              "        1.15642098,  1.4095475 ,  0.59471395,  0.24797689,  0.08605872,\n",
              "        2.16926667,  0.37430277,  0.31683469,  1.4549803 ,  4.28767183,\n",
              "        0.52716183,  1.91114722,  0.43362764,  4.10428854,  1.83322517,\n",
              "        1.11136804,  2.69700935,  0.91178311,  0.555181  ,  3.28972628,\n",
              "        0.36584336,  3.14109134,  2.050421  ,  1.836918  ,  3.45125124,\n",
              "        1.68734616,  0.22686549,  0.97363923,  1.08462691,  2.13337517,\n",
              "        1.58774706,  2.59328208,  0.47218012,  0.75970913,  0.16702329,\n",
              "        1.08941743,  2.18620613,  1.885     ,  0.4063873 ,  0.31831291,\n",
              "        0.78600668,  2.24288643,  0.59360243,  2.86967418,  1.05148484,\n",
              "        0.51971273,  4.70834574,  0.51321373,  0.44535327,  2.527786  ,\n",
              "        0.72214782,  1.86750641,  0.87167882,  1.36836691,  2.7430188 ,\n",
              "        1.54803495,  1.43319852,  2.94589184,  0.1788489 ,  2.52941864,\n",
              "        2.42129562,  2.16982761,  0.43063856,  0.27013323,  1.30447679,\n",
              "        0.55026469,  0.39730763,  0.90068382,  0.98982492,  2.89424431,\n",
              "        4.59166494,  0.68051885,  1.0317971 ,  0.25914506,  0.4041303 ,\n",
              "        1.21415235,  0.17805168,  0.26630165,  2.15713061,  0.80630897,\n",
              "        3.36357995,  0.23179813,  5.49796703,  0.3120624 ,  2.29190217,\n",
              "        0.84285078,  6.11114659,  0.70508428,  0.2654775 ,  0.34644959,\n",
              "        1.13173696,  1.06828266,  0.44100844,  3.27191715,  1.0324451 ,\n",
              "        1.16800349,  1.0334241 ,  1.44438357,  0.37432181,  2.29451506,\n",
              "        0.31885968,  0.40706705,  0.41562204,  0.99546543,  1.27364445])"
            ]
          },
          "metadata": {},
          "execution_count": 9
        }
      ]
    },
    {
      "cell_type": "code",
      "source": [
        "plt.hist(ma_ses)"
      ],
      "metadata": {
        "colab": {
          "base_uri": "https://localhost:8080/",
          "height": 352
        },
        "id": "sm2BcZV3z-i8",
        "outputId": "887fae73-84c6-4531-8eda-5e989fba0531"
      },
      "execution_count": 10,
      "outputs": [
        {
          "output_type": "execute_result",
          "data": {
            "text/plain": [
              "(array([124.,  46.,  19.,   6.,   2.,   0.,   1.,   0.,   1.,   1.]),\n",
              " array([ 0.05179697,  1.36923749,  2.686678  ,  4.00411852,  5.32155903,\n",
              "         6.63899955,  7.95644007,  9.27388058, 10.5913211 , 11.90876161,\n",
              "        13.22620213]),\n",
              " <a list of 10 Patch objects>)"
            ]
          },
          "metadata": {},
          "execution_count": 10
        },
        {
          "output_type": "display_data",
          "data": {
            "text/plain": [
              "<Figure size 432x288 with 1 Axes>"
            ],
            "image/png": "[encoded data removed]"
          },
          "metadata": {
            "needs_background": "light"
          }
        }
      ]
    },
    {
      "cell_type": "code",
      "source": [
        "#uno las tres distribuciones\n",
        "\n",
        "X_train=np.append([ma_uni],[ma_ses],axis=0)\n",
        "X_train=np.append(X_train,[ma_nor], axis=0)\n",
        "X_train"
      ],
      "metadata": {
        "colab": {
          "base_uri": "https://localhost:8080/"
        },
        "id": "gd9VKcu30uM5",
        "outputId": "72a08223-2909-4424-e3c7-73ff3f615c4c"
      },
      "execution_count": 11,
      "outputs": [
        {
          "output_type": "execute_result",
          "data": {
            "text/plain": [
              "array([[ 4.14251826e-01,  2.58019939e-01,  2.78993597e-01,\n",
              "         8.18049660e-01,  5.91100837e-01,  9.38584147e-01,\n",
              "         7.86956655e-01,  7.94133001e-01,  7.85092956e-02,\n",
              "         4.08290848e-01,  3.99456658e-01,  8.34010984e-01,\n",
              "         6.40314161e-01,  7.22563396e-01,  5.41469932e-01,\n",
              "         5.45146094e-01,  4.19889604e-01,  5.58799177e-01,\n",
              "         7.94815224e-01,  5.30508930e-01,  7.06423621e-01,\n",
              "         1.92956029e-01,  2.88301530e-01,  1.79323915e-01,\n",
              "         4.24189999e-01,  9.19734550e-01,  9.27785179e-01,\n",
              "         4.94875467e-01,  8.12256088e-01,  9.74249150e-01,\n",
              "         5.89880596e-01,  6.67338304e-01,  3.36682084e-01,\n",
              "         4.40502239e-01,  2.72651790e-01,  3.19851836e-01,\n",
              "         4.89985489e-01,  6.05613517e-01,  3.75015471e-01,\n",
              "         2.42980244e-01,  5.15363040e-01,  3.17297468e-01,\n",
              "         2.11918300e-01,  3.10242555e-02,  4.73405578e-01,\n",
              "         7.72491613e-01,  5.33313774e-01,  3.20928809e-01,\n",
              "         9.09546680e-01,  1.53866867e-02,  7.72598039e-01,\n",
              "         6.75050493e-02,  5.44647477e-01,  8.90459532e-01,\n",
              "         5.59507443e-01,  1.25782609e-01,  8.12837768e-01,\n",
              "         8.59184014e-01,  2.72296718e-01,  3.96529074e-01,\n",
              "         2.83730677e-01,  6.64572662e-01,  1.61581196e-01,\n",
              "         5.76824505e-01,  2.70279296e-01,  3.16191432e-01,\n",
              "         6.84970054e-01,  7.74110757e-01,  8.29625595e-01,\n",
              "         2.44896993e-01,  3.28203790e-01,  5.55090226e-02,\n",
              "         4.13179358e-01,  3.31387424e-02,  2.20345925e-01,\n",
              "         8.37067615e-01,  2.78388754e-01,  6.72815769e-01,\n",
              "         5.77349178e-01,  9.50814095e-01,  1.82017489e-01,\n",
              "         6.04563210e-01,  4.03036986e-01,  4.23483449e-01,\n",
              "         7.79568595e-01,  8.89324254e-01,  9.22013384e-01,\n",
              "         7.08566033e-01,  3.99892748e-01,  8.34795763e-01,\n",
              "         8.32805025e-02,  2.99947492e-01,  1.95303370e-01,\n",
              "         3.60902990e-01,  9.69316915e-02,  2.21304989e-01,\n",
              "         3.51229753e-01,  5.03632519e-01,  5.39528495e-02,\n",
              "         9.37315206e-01,  7.31882747e-01,  5.96922499e-01,\n",
              "         1.74072439e-01,  5.95878995e-01,  6.19352836e-01,\n",
              "         3.08379129e-01,  4.56731151e-01,  5.12284951e-01,\n",
              "         7.37282250e-01,  4.98910398e-01,  4.87387683e-01,\n",
              "         6.04725783e-01,  7.25732155e-01,  2.89937146e-01,\n",
              "         7.10993521e-01,  7.95593875e-01,  7.14713175e-02,\n",
              "         1.29400546e-01,  9.87617464e-01,  8.13191398e-01,\n",
              "         5.86085494e-01,  5.95081845e-01,  9.54980262e-02,\n",
              "         7.81474456e-01,  9.27845240e-01,  5.20767040e-01,\n",
              "         5.71086987e-01,  2.60848210e-01,  1.70853452e-01,\n",
              "         9.71943772e-01,  5.75915105e-01,  4.91977201e-02,\n",
              "         6.53138943e-01,  8.23152588e-01,  8.61776354e-02,\n",
              "         1.07379257e-01,  9.53492607e-01,  6.00429111e-01,\n",
              "         7.33755597e-01,  7.17426081e-02,  4.81992496e-01,\n",
              "         7.47163412e-01,  7.38723780e-01,  8.93235380e-01,\n",
              "         7.95657331e-01,  6.47552578e-01,  5.95893133e-01,\n",
              "         9.66812704e-02,  8.73427520e-02,  9.23379202e-01,\n",
              "         4.45536790e-03,  7.66605424e-01,  7.72809944e-01,\n",
              "         1.61427178e-01,  6.44482838e-01,  5.18487320e-01,\n",
              "         9.42997935e-01,  6.52116889e-01,  7.92265262e-01,\n",
              "         3.05302271e-01,  8.52222618e-01,  7.51933892e-01,\n",
              "         8.34589431e-01,  6.26413612e-01,  5.76925580e-01,\n",
              "         7.56777206e-01,  7.10606808e-02,  9.88658960e-01,\n",
              "         8.47016749e-01,  4.73614462e-01,  5.10850695e-01,\n",
              "         3.93409178e-01,  5.18458151e-01,  1.19287103e-01,\n",
              "         3.54231392e-01,  6.47308711e-01,  8.66261739e-01,\n",
              "         8.34773191e-01,  4.31192448e-01,  1.64379503e-01,\n",
              "         1.87773176e-01,  6.21615856e-01,  1.22744992e-01,\n",
              "         7.98620150e-02,  8.25451110e-01,  6.55023647e-01,\n",
              "         1.22106239e-01,  8.15749304e-01,  7.25796655e-01,\n",
              "         6.15236066e-02,  7.39970958e-01,  1.33398741e-01,\n",
              "         3.60262836e-01,  1.11959571e-01,  9.09373717e-01,\n",
              "         5.80971840e-01,  8.37856444e-02,  9.24962879e-01,\n",
              "         6.28736196e-01,  7.08102592e-01],\n",
              "       [ 1.70199163e+00,  3.28595051e+00,  1.13383426e+00,\n",
              "         4.04951284e+00,  6.22500831e-01,  2.36654041e+00,\n",
              "         2.82522713e+00,  4.15114914e-01,  7.84719312e-02,\n",
              "         2.71099908e+00,  2.06990310e+00,  1.20123564e+00,\n",
              "         1.40171133e+00,  5.49609024e-01,  1.43742695e+00,\n",
              "         1.02508754e+00,  1.46853028e+00,  8.43692100e+00,\n",
              "         1.11002789e+00,  1.26901732e+00,  2.82621818e-01,\n",
              "         4.08293825e-01,  4.04464109e-01,  8.32337728e-01,\n",
              "         9.54465144e-01,  3.74135176e+00,  4.21700317e-01,\n",
              "         1.64049208e+00,  5.59914570e-01,  2.90961452e+00,\n",
              "         5.43590595e-01,  2.14059100e+00,  6.47955760e-01,\n",
              "         1.49176847e+00,  7.79942537e-01,  1.32262021e+01,\n",
              "         8.94909858e-01,  4.52662511e-01,  1.27313202e+00,\n",
              "         1.19996909e+00,  4.24478004e-01,  2.29066333e+00,\n",
              "         5.17969713e-02,  2.11149217e-01,  7.64072541e-01,\n",
              "         2.84766836e-01,  1.26266225e+00,  1.93569089e+00,\n",
              "         2.16821528e+00,  2.64427623e+00,  3.41317612e-01,\n",
              "         5.18370839e-01,  6.27489047e-01,  1.34686788e+00,\n",
              "         1.24990104e-01,  1.11187133e+01,  1.59540729e+00,\n",
              "         1.57748682e+00,  3.57330535e+00,  1.55544858e-01,\n",
              "         6.01333199e-01,  5.73772261e-01,  8.08663410e-01,\n",
              "         4.16379911e-01,  8.02021527e-02,  1.81808729e+00,\n",
              "         3.99121476e-01,  2.95907748e+00,  2.63790398e+00,\n",
              "         2.82761413e+00,  3.54439135e-01,  6.72928510e-02,\n",
              "         2.10097151e+00,  1.58039841e+00,  6.75939581e-01,\n",
              "         2.15276693e+00,  8.77661898e-01,  1.30957115e+00,\n",
              "         4.71092870e-01,  1.07695914e+00,  2.98244123e+00,\n",
              "         8.32918741e-01,  2.38028913e+00,  9.07150707e-01,\n",
              "         4.15581888e-01,  2.89945316e-01,  4.92600231e-01,\n",
              "         1.27432891e+00,  4.29468846e-01,  4.23385450e+00,\n",
              "         3.78700776e-01,  1.00382354e+00,  6.65078849e-01,\n",
              "         4.93372222e-01,  2.89294849e-01,  1.15642098e+00,\n",
              "         1.40954750e+00,  5.94713952e-01,  2.47976887e-01,\n",
              "         8.60587193e-02,  2.16926667e+00,  3.74302773e-01,\n",
              "         3.16834686e-01,  1.45498030e+00,  4.28767183e+00,\n",
              "         5.27161833e-01,  1.91114722e+00,  4.33627637e-01,\n",
              "         4.10428854e+00,  1.83322517e+00,  1.11136804e+00,\n",
              "         2.69700935e+00,  9.11783107e-01,  5.55180999e-01,\n",
              "         3.28972628e+00,  3.65843358e-01,  3.14109134e+00,\n",
              "         2.05042100e+00,  1.83691800e+00,  3.45125124e+00,\n",
              "         1.68734616e+00,  2.26865485e-01,  9.73639227e-01,\n",
              "         1.08462691e+00,  2.13337517e+00,  1.58774706e+00,\n",
              "         2.59328208e+00,  4.72180115e-01,  7.59709133e-01,\n",
              "         1.67023291e-01,  1.08941743e+00,  2.18620613e+00,\n",
              "         1.88500000e+00,  4.06387296e-01,  3.18312910e-01,\n",
              "         7.86006681e-01,  2.24288643e+00,  5.93602427e-01,\n",
              "         2.86967418e+00,  1.05148484e+00,  5.19712726e-01,\n",
              "         4.70834574e+00,  5.13213729e-01,  4.45353268e-01,\n",
              "         2.52778600e+00,  7.22147821e-01,  1.86750641e+00,\n",
              "         8.71678817e-01,  1.36836691e+00,  2.74301880e+00,\n",
              "         1.54803495e+00,  1.43319852e+00,  2.94589184e+00,\n",
              "         1.78848905e-01,  2.52941864e+00,  2.42129562e+00,\n",
              "         2.16982761e+00,  4.30638563e-01,  2.70133226e-01,\n",
              "         1.30447679e+00,  5.50264690e-01,  3.97307627e-01,\n",
              "         9.00683816e-01,  9.89824917e-01,  2.89424431e+00,\n",
              "         4.59166494e+00,  6.80518849e-01,  1.03179710e+00,\n",
              "         2.59145060e-01,  4.04130298e-01,  1.21415235e+00,\n",
              "         1.78051677e-01,  2.66301654e-01,  2.15713061e+00,\n",
              "         8.06308970e-01,  3.36357995e+00,  2.31798129e-01,\n",
              "         5.49796703e+00,  3.12062403e-01,  2.29190217e+00,\n",
              "         8.42850782e-01,  6.11114659e+00,  7.05084280e-01,\n",
              "         2.65477498e-01,  3.46449586e-01,  1.13173696e+00,\n",
              "         1.06828266e+00,  4.41008441e-01,  3.27191715e+00,\n",
              "         1.03244510e+00,  1.16800349e+00,  1.03342410e+00,\n",
              "         1.44438357e+00,  3.74321815e-01,  2.29451506e+00,\n",
              "         3.18859682e-01,  4.07067048e-01,  4.15622042e-01,\n",
              "         9.95465434e-01,  1.27364445e+00],\n",
              "       [-5.46994323e-01,  3.63184648e-01, -4.51579553e-01,\n",
              "        -8.61480839e-01, -2.07401944e+00, -9.66684953e-01,\n",
              "         9.87842985e-01,  1.40822719e+00,  1.84875642e-01,\n",
              "        -7.73431782e-01, -7.99671692e-01, -6.30627432e-01,\n",
              "        -4.92104039e-01, -2.12786481e+00, -1.22438754e+00,\n",
              "        -6.00271629e-01, -1.73197039e+00,  1.76037780e-01,\n",
              "         8.64055441e-01, -3.38673542e-01, -1.73309192e-02,\n",
              "         5.89392549e-02, -7.53042643e-01, -5.33574757e-01,\n",
              "         5.19922312e-01,  1.38131136e+00,  5.18884166e-01,\n",
              "        -6.61751286e-01, -1.91036559e+00,  6.16247764e-01,\n",
              "        -4.62095322e-01,  1.07680032e+00, -2.28786720e+00,\n",
              "         6.89726666e-02,  4.55123060e-01, -2.32854187e-01,\n",
              "         4.75908108e-01, -1.38648292e+00,  1.03722508e-01,\n",
              "         1.97917871e-01, -3.17905397e-01,  2.07786689e+00,\n",
              "        -3.10260474e-01, -1.80215526e-01, -1.47549520e+00,\n",
              "        -3.65710092e-01, -2.73064448e-01, -8.87441086e-01,\n",
              "        -2.62528177e-01,  8.07190417e-01,  8.20572442e-01,\n",
              "        -2.00239942e+00, -6.00570545e-01, -1.81106307e-01,\n",
              "        -1.10946883e+00,  6.32209796e-01,  3.80018992e-01,\n",
              "        -4.03784395e-01,  4.73266295e-02, -1.67016135e-01,\n",
              "         1.24214210e-01,  1.25114467e+00,  5.71696791e-01,\n",
              "        -2.03889982e-01, -1.09229933e-01,  1.03018348e+00,\n",
              "         9.91018318e-01, -1.40799015e-01,  6.02544940e-01,\n",
              "         1.00536961e+00,  2.23060497e-01,  1.85135942e+00,\n",
              "         1.16322310e+00,  1.17939729e+00, -2.78245843e-01,\n",
              "         6.28501874e-01, -4.31978061e-01,  3.75950208e-01,\n",
              "         4.94089571e-01, -4.99510678e-01,  2.30960518e-01,\n",
              "        -5.02398211e-01, -1.71457299e+00, -3.24301274e-01,\n",
              "         1.19144239e-01, -1.93620160e-01, -5.36053845e-01,\n",
              "         4.30358891e-01,  3.43374925e-01,  1.23672877e+00,\n",
              "         1.14102639e+00, -9.25170932e-01, -6.98648923e-01,\n",
              "         6.89054389e-01,  1.40798048e-01, -1.35561554e+00,\n",
              "         3.19109029e-01,  1.11927956e-01,  4.71131994e-01,\n",
              "        -1.68375024e+00,  8.05284895e-01,  1.42039652e+00,\n",
              "         1.11340343e+00,  1.57961636e+00, -1.49449763e+00,\n",
              "         1.70651582e+00, -1.49362300e-01,  2.68106112e-01,\n",
              "         1.00568490e+00,  7.89771002e-01,  2.10186491e+00,\n",
              "        -9.50723596e-01, -2.97588580e-02,  2.23131632e-01,\n",
              "        -1.36091746e+00,  1.88180822e-01, -5.30058262e-01,\n",
              "         7.17643878e-01, -1.31086809e-01,  9.21575290e-02,\n",
              "         4.92137304e-01, -1.85203128e+00,  1.80370241e+00,\n",
              "        -9.91523937e-02, -4.14782828e-01, -7.60933099e-01,\n",
              "        -1.11423230e+00,  4.09975733e-01,  7.59471114e-01,\n",
              "         8.51530169e-02,  1.06310000e+00,  5.62681058e-01,\n",
              "        -9.41803222e-01, -1.89752655e+00,  7.49701327e-01,\n",
              "         1.11756074e+00, -1.85890302e+00,  9.77793190e-01,\n",
              "         5.30896379e-01, -5.19056160e-01,  7.27024871e-01,\n",
              "        -1.95600592e+00,  1.29902448e+00, -2.65243061e-01,\n",
              "        -8.09206493e-01, -1.47692883e-01, -1.12855130e+00,\n",
              "        -2.99817236e-01, -2.10088508e-01,  1.60359283e+00,\n",
              "         1.38462197e-01, -1.46337619e+00, -1.06373368e+00,\n",
              "        -2.36726027e-01, -2.57818358e+00, -5.36142245e-02,\n",
              "         1.38555152e+00, -1.05451082e+00, -9.91330554e-01,\n",
              "        -1.69835198e-01,  7.52819383e-01,  4.37490520e-01,\n",
              "        -1.64715655e+00,  1.00645650e+00,  5.14942453e-01,\n",
              "        -6.18833894e-01,  5.71751619e-01, -3.02527770e-01,\n",
              "         2.05899011e-01, -1.04303925e+00,  1.28291608e+00,\n",
              "         2.74726620e-01,  1.03554305e+00,  5.95035165e-01,\n",
              "         2.00947231e-01, -2.67021287e-03,  1.41251608e+00,\n",
              "        -8.04027263e-01, -5.70507549e-01,  6.22113179e-01,\n",
              "         2.70114925e-01, -1.01529935e+00, -6.32725439e-01,\n",
              "        -3.38474629e-01,  1.84348063e-01, -2.18818377e-01,\n",
              "         1.01298947e+00, -6.66609073e-01,  8.87302018e-01,\n",
              "         1.44560312e+00, -1.40512690e+00, -1.79837482e+00,\n",
              "         7.56706264e-01,  8.85055142e-01, -9.77894254e-01,\n",
              "        -1.02423326e+00, -1.46843599e+00,  1.28441871e+00,\n",
              "         2.80091584e-02,  4.20308848e-01]])"
            ]
          },
          "metadata": {},
          "execution_count": 11
        }
      ]
    },
    {
      "cell_type": "code",
      "source": [
        "# Genero una matriz de Pandas de 20 x 3.\n",
        "\n",
        "df = pd.DataFrame(list(zip(ma_nor, ma_uni, ma_ses)))\n",
        "print(df)"
      ],
      "metadata": {
        "colab": {
          "base_uri": "https://localhost:8080/"
        },
        "id": "hozLGBtS0uPy",
        "outputId": "ca27ece9-61c3-44e2-f73e-08e307b54ea2"
      },
      "execution_count": 12,
      "outputs": [
        {
          "output_type": "stream",
          "name": "stdout",
          "text": [
            "            0         1         2\n",
            "0   -0.546994  0.414252  1.701992\n",
            "1    0.363185  0.258020  3.285951\n",
            "2   -0.451580  0.278994  1.133834\n",
            "3   -0.861481  0.818050  4.049513\n",
            "4   -2.074019  0.591101  0.622501\n",
            "..        ...       ...       ...\n",
            "195 -1.024233  0.580972  0.318860\n",
            "196 -1.468436  0.083786  0.407067\n",
            "197  1.284419  0.924963  0.415622\n",
            "198  0.028009  0.628736  0.995465\n",
            "199  0.420309  0.708103  1.273644\n",
            "\n",
            "[200 rows x 3 columns]\n"
          ]
        }
      ]
    },
    {
      "cell_type": "code",
      "source": [
        "#view basic statistical details\n",
        "df.describe()"
      ],
      "metadata": {
        "colab": {
          "base_uri": "https://localhost:8080/",
          "height": 300
        },
        "id": "YvUPkFY70uSa",
        "outputId": "77f64e06-f8aa-416b-d41a-ce69dd0b4e61"
      },
      "execution_count": 13,
      "outputs": [
        {
          "output_type": "execute_result",
          "data": {
            "text/plain": [
              "                0           1           2\n",
              "count  200.000000  200.000000  200.000000\n",
              "mean    -0.041566    0.515059    1.493765\n",
              "std      0.952941    0.279131    1.641273\n",
              "min     -2.578184    0.004455    0.051797\n",
              "25%     -0.631152    0.278842    0.444267\n",
              "50%      0.012669    0.544897    1.032935\n",
              "75%      0.623710    0.759234    2.109072\n",
              "max      2.101865    0.988659   13.226202"
            ],
            "text/html": [
              "\n",
              "  <div id=\"df-1e351d02-1a70-49fc-b1a2-d07e31c797a3\">\n",
              "    <div class=\"colab-df-container\">\n",
              "      <div>\n",
              "<style scoped>\n",
              "    .dataframe tbody tr th:only-of-type {\n",
              "        vertical-align: middle;\n",
              "    }\n",
              "\n",
              "    .dataframe tbody tr th {\n",
              "        vertical-align: top;\n",
              "    }\n",
              "\n",
              "    .dataframe thead th {\n",
              "        text-align: right;\n",
              "    }\n",
              "</style>\n",
              "<table border=\"1\" class=\"dataframe\">\n",
              "  <thead>\n",
              "    <tr style=\"text-align: right;\">\n",
              "      <th></th>\n",
              "      <th>0</th>\n",
              "      <th>1</th>\n",
              "      <th>2</th>\n",
              "    </tr>\n",
              "  </thead>\n",
              "  <tbody>\n",
              "    <tr>\n",
              "      <th>count</th>\n",
              "      <td>200.000000</td>\n",
              "      <td>200.000000</td>\n",
              "      <td>200.000000</td>\n",
              "    </tr>\n",
              "    <tr>\n",
              "      <th>mean</th>\n",
              "      <td>-0.041566</td>\n",
              "      <td>0.515059</td>\n",
              "      <td>1.493765</td>\n",
              "    </tr>\n",
              "    <tr>\n",
              "      <th>std</th>\n",
              "      <td>0.952941</td>\n",
              "      <td>0.279131</td>\n",
              "      <td>1.641273</td>\n",
              "    </tr>\n",
              "    <tr>\n",
              "      <th>min</th>\n",
              "      <td>-2.578184</td>\n",
              "      <td>0.004455</td>\n",
              "      <td>0.051797</td>\n",
              "    </tr>\n",
              "    <tr>\n",
              "      <th>25%</th>\n",
              "      <td>-0.631152</td>\n",
              "      <td>0.278842</td>\n",
              "      <td>0.444267</td>\n",
              "    </tr>\n",
              "    <tr>\n",
              "      <th>50%</th>\n",
              "      <td>0.012669</td>\n",
              "      <td>0.544897</td>\n",
              "      <td>1.032935</td>\n",
              "    </tr>\n",
              "    <tr>\n",
              "      <th>75%</th>\n",
              "      <td>0.623710</td>\n",
              "      <td>0.759234</td>\n",
              "      <td>2.109072</td>\n",
              "    </tr>\n",
              "    <tr>\n",
              "      <th>max</th>\n",
              "      <td>2.101865</td>\n",
              "      <td>0.988659</td>\n",
              "      <td>13.226202</td>\n",
              "    </tr>\n",
              "  </tbody>\n",
              "</table>\n",
              "</div>\n",
              "      <button class=\"colab-df-convert\" onclick=\"convertToInteractive('df-1e351d02-1a70-49fc-b1a2-d07e31c797a3')\"\n",
              "              title=\"Convert this dataframe to an interactive table.\"\n",
              "              style=\"display:none;\">\n",
              "        \n",
              "  <svg xmlns=\"http://www.w3.org/2000/svg\" height=\"24px\"viewBox=\"0 0 24 24\"\n",
              "       width=\"24px\">\n",
              "    <path d=\"M0 0h24v24H0V0z\" fill=\"none\"/>\n",
              "    <path d=\"M18.56 5.44l.94 2.06.94-2.06 2.06-.94-2.06-.94-.94-2.06-.94 2.06-2.06.94zm-11 1L8.5 8.5l.94-2.06 2.06-.94-2.06-.94L8.5 2.5l-.94 2.06-2.06.94zm10 10l.94 2.06.94-2.06 2.06-.94-2.06-.94-.94-2.06-.94 2.06-2.06.94z\"/><path d=\"M17.41 7.96l-1.37-1.37c-.4-.4-.92-.59-1.43-.59-.52 0-1.04.2-1.43.59L10.3 9.45l-7.72 7.72c-.78.78-.78 2.05 0 2.83L4 21.41c.39.39.9.59 1.41.59.51 0 1.02-.2 1.41-.59l7.78-7.78 2.81-2.81c.8-.78.8-2.07 0-2.86zM5.41 20L4 18.59l7.72-7.72 1.47 1.35L5.41 20z\"/>\n",
              "  </svg>\n",
              "      </button>\n",
              "      \n",
              "  <style>\n",
              "    .colab-df-container {\n",
              "      display:flex;\n",
              "      flex-wrap:wrap;\n",
              "      gap: 12px;\n",
              "    }\n",
              "\n",
              "    .colab-df-convert {\n",
              "      background-color: #E8F0FE;\n",
              "      border: none;\n",
              "      border-radius: 50%;\n",
              "      cursor: pointer;\n",
              "      display: none;\n",
              "      fill: #1967D2;\n",
              "      height: 32px;\n",
              "      padding: 0 0 0 0;\n",
              "      width: 32px;\n",
              "    }\n",
              "\n",
              "    .colab-df-convert:hover {\n",
              "      background-color: #E2EBFA;\n",
              "      box-shadow: 0px 1px 2px rgba(60, 64, 67, 0.3), 0px 1px 3px 1px rgba(60, 64, 67, 0.15);\n",
              "      fill: #174EA6;\n",
              "    }\n",
              "\n",
              "    [theme=dark] .colab-df-convert {\n",
              "      background-color: #3B4455;\n",
              "      fill: #D2E3FC;\n",
              "    }\n",
              "\n",
              "    [theme=dark] .colab-df-convert:hover {\n",
              "      background-color: #434B5C;\n",
              "      box-shadow: 0px 1px 3px 1px rgba(0, 0, 0, 0.15);\n",
              "      filter: drop-shadow(0px 1px 2px rgba(0, 0, 0, 0.3));\n",
              "      fill: #FFFFFF;\n",
              "    }\n",
              "  </style>\n",
              "\n",
              "      <script>\n",
              "        const buttonEl =\n",
              "          document.querySelector('#df-1e351d02-1a70-49fc-b1a2-d07e31c797a3 button.colab-df-convert');\n",
              "        buttonEl.style.display =\n",
              "          google.colab.kernel.accessAllowed ? 'block' : 'none';\n",
              "\n",
              "        async function convertToInteractive(key) {\n",
              "          const element = document.querySelector('#df-1e351d02-1a70-49fc-b1a2-d07e31c797a3');\n",
              "          const dataTable =\n",
              "            await google.colab.kernel.invokeFunction('convertToInteractive',\n",
              "                                                     [key], {});\n",
              "          if (!dataTable) return;\n",
              "\n",
              "          const docLinkHtml = 'Like what you see? Visit the ' +\n",
              "            '<a target=\"_blank\" href=https://colab.research.google.com/notebooks/data_table.ipynb>data table notebook</a>'\n",
              "            + ' to learn more about interactive tables.';\n",
              "          element.innerHTML = '';\n",
              "          dataTable['output_type'] = 'display_data';\n",
              "          await google.colab.output.renderOutput(dataTable, element);\n",
              "          const docLink = document.createElement('div');\n",
              "          docLink.innerHTML = docLinkHtml;\n",
              "          element.appendChild(docLink);\n",
              "        }\n",
              "      </script>\n",
              "    </div>\n",
              "  </div>\n",
              "  "
            ]
          },
          "metadata": {},
          "execution_count": 13
        }
      ]
    },
    {
      "cell_type": "code",
      "source": [
        "# Convierto el dataframe en un array de numpy para usar como X_train:\n",
        "X_np = df.to_numpy()\n",
        "X_np"
      ],
      "metadata": {
        "colab": {
          "base_uri": "https://localhost:8080/"
        },
        "id": "0fNwoRcN0uVP",
        "outputId": "40f4e674-aa65-4647-f10c-c59ee564b1c7"
      },
      "execution_count": 14,
      "outputs": [
        {
          "output_type": "execute_result",
          "data": {
            "text/plain": [
              "array([[-5.46994323e-01,  4.14251826e-01,  1.70199163e+00],\n",
              "       [ 3.63184648e-01,  2.58019939e-01,  3.28595051e+00],\n",
              "       [-4.51579553e-01,  2.78993597e-01,  1.13383426e+00],\n",
              "       [-8.61480839e-01,  8.18049660e-01,  4.04951284e+00],\n",
              "       [-2.07401944e+00,  5.91100837e-01,  6.22500831e-01],\n",
              "       [-9.66684953e-01,  9.38584147e-01,  2.36654041e+00],\n",
              "       [ 9.87842985e-01,  7.86956655e-01,  2.82522713e+00],\n",
              "       [ 1.40822719e+00,  7.94133001e-01,  4.15114914e-01],\n",
              "       [ 1.84875642e-01,  7.85092956e-02,  7.84719312e-02],\n",
              "       [-7.73431782e-01,  4.08290848e-01,  2.71099908e+00],\n",
              "       [-7.99671692e-01,  3.99456658e-01,  2.06990310e+00],\n",
              "       [-6.30627432e-01,  8.34010984e-01,  1.20123564e+00],\n",
              "       [-4.92104039e-01,  6.40314161e-01,  1.40171133e+00],\n",
              "       [-2.12786481e+00,  7.22563396e-01,  5.49609024e-01],\n",
              "       [-1.22438754e+00,  5.41469932e-01,  1.43742695e+00],\n",
              "       [-6.00271629e-01,  5.45146094e-01,  1.02508754e+00],\n",
              "       [-1.73197039e+00,  4.19889604e-01,  1.46853028e+00],\n",
              "       [ 1.76037780e-01,  5.58799177e-01,  8.43692100e+00],\n",
              "       [ 8.64055441e-01,  7.94815224e-01,  1.11002789e+00],\n",
              "       [-3.38673542e-01,  5.30508930e-01,  1.26901732e+00],\n",
              "       [-1.73309192e-02,  7.06423621e-01,  2.82621818e-01],\n",
              "       [ 5.89392549e-02,  1.92956029e-01,  4.08293825e-01],\n",
              "       [-7.53042643e-01,  2.88301530e-01,  4.04464109e-01],\n",
              "       [-5.33574757e-01,  1.79323915e-01,  8.32337728e-01],\n",
              "       [ 5.19922312e-01,  4.24189999e-01,  9.54465144e-01],\n",
              "       [ 1.38131136e+00,  9.19734550e-01,  3.74135176e+00],\n",
              "       [ 5.18884166e-01,  9.27785179e-01,  4.21700317e-01],\n",
              "       [-6.61751286e-01,  4.94875467e-01,  1.64049208e+00],\n",
              "       [-1.91036559e+00,  8.12256088e-01,  5.59914570e-01],\n",
              "       [ 6.16247764e-01,  9.74249150e-01,  2.90961452e+00],\n",
              "       [-4.62095322e-01,  5.89880596e-01,  5.43590595e-01],\n",
              "       [ 1.07680032e+00,  6.67338304e-01,  2.14059100e+00],\n",
              "       [-2.28786720e+00,  3.36682084e-01,  6.47955760e-01],\n",
              "       [ 6.89726666e-02,  4.40502239e-01,  1.49176847e+00],\n",
              "       [ 4.55123060e-01,  2.72651790e-01,  7.79942537e-01],\n",
              "       [-2.32854187e-01,  3.19851836e-01,  1.32262021e+01],\n",
              "       [ 4.75908108e-01,  4.89985489e-01,  8.94909858e-01],\n",
              "       [-1.38648292e+00,  6.05613517e-01,  4.52662511e-01],\n",
              "       [ 1.03722508e-01,  3.75015471e-01,  1.27313202e+00],\n",
              "       [ 1.97917871e-01,  2.42980244e-01,  1.19996909e+00],\n",
              "       [-3.17905397e-01,  5.15363040e-01,  4.24478004e-01],\n",
              "       [ 2.07786689e+00,  3.17297468e-01,  2.29066333e+00],\n",
              "       [-3.10260474e-01,  2.11918300e-01,  5.17969713e-02],\n",
              "       [-1.80215526e-01,  3.10242555e-02,  2.11149217e-01],\n",
              "       [-1.47549520e+00,  4.73405578e-01,  7.64072541e-01],\n",
              "       [-3.65710092e-01,  7.72491613e-01,  2.84766836e-01],\n",
              "       [-2.73064448e-01,  5.33313774e-01,  1.26266225e+00],\n",
              "       [-8.87441086e-01,  3.20928809e-01,  1.93569089e+00],\n",
              "       [-2.62528177e-01,  9.09546680e-01,  2.16821528e+00],\n",
              "       [ 8.07190417e-01,  1.53866867e-02,  2.64427623e+00],\n",
              "       [ 8.20572442e-01,  7.72598039e-01,  3.41317612e-01],\n",
              "       [-2.00239942e+00,  6.75050493e-02,  5.18370839e-01],\n",
              "       [-6.00570545e-01,  5.44647477e-01,  6.27489047e-01],\n",
              "       [-1.81106307e-01,  8.90459532e-01,  1.34686788e+00],\n",
              "       [-1.10946883e+00,  5.59507443e-01,  1.24990104e-01],\n",
              "       [ 6.32209796e-01,  1.25782609e-01,  1.11187133e+01],\n",
              "       [ 3.80018992e-01,  8.12837768e-01,  1.59540729e+00],\n",
              "       [-4.03784395e-01,  8.59184014e-01,  1.57748682e+00],\n",
              "       [ 4.73266295e-02,  2.72296718e-01,  3.57330535e+00],\n",
              "       [-1.67016135e-01,  3.96529074e-01,  1.55544858e-01],\n",
              "       [ 1.24214210e-01,  2.83730677e-01,  6.01333199e-01],\n",
              "       [ 1.25114467e+00,  6.64572662e-01,  5.73772261e-01],\n",
              "       [ 5.71696791e-01,  1.61581196e-01,  8.08663410e-01],\n",
              "       [-2.03889982e-01,  5.76824505e-01,  4.16379911e-01],\n",
              "       [-1.09229933e-01,  2.70279296e-01,  8.02021527e-02],\n",
              "       [ 1.03018348e+00,  3.16191432e-01,  1.81808729e+00],\n",
              "       [ 9.91018318e-01,  6.84970054e-01,  3.99121476e-01],\n",
              "       [-1.40799015e-01,  7.74110757e-01,  2.95907748e+00],\n",
              "       [ 6.02544940e-01,  8.29625595e-01,  2.63790398e+00],\n",
              "       [ 1.00536961e+00,  2.44896993e-01,  2.82761413e+00],\n",
              "       [ 2.23060497e-01,  3.28203790e-01,  3.54439135e-01],\n",
              "       [ 1.85135942e+00,  5.55090226e-02,  6.72928510e-02],\n",
              "       [ 1.16322310e+00,  4.13179358e-01,  2.10097151e+00],\n",
              "       [ 1.17939729e+00,  3.31387424e-02,  1.58039841e+00],\n",
              "       [-2.78245843e-01,  2.20345925e-01,  6.75939581e-01],\n",
              "       [ 6.28501874e-01,  8.37067615e-01,  2.15276693e+00],\n",
              "       [-4.31978061e-01,  2.78388754e-01,  8.77661898e-01],\n",
              "       [ 3.75950208e-01,  6.72815769e-01,  1.30957115e+00],\n",
              "       [ 4.94089571e-01,  5.77349178e-01,  4.71092870e-01],\n",
              "       [-4.99510678e-01,  9.50814095e-01,  1.07695914e+00],\n",
              "       [ 2.30960518e-01,  1.82017489e-01,  2.98244123e+00],\n",
              "       [-5.02398211e-01,  6.04563210e-01,  8.32918741e-01],\n",
              "       [-1.71457299e+00,  4.03036986e-01,  2.38028913e+00],\n",
              "       [-3.24301274e-01,  4.23483449e-01,  9.07150707e-01],\n",
              "       [ 1.19144239e-01,  7.79568595e-01,  4.15581888e-01],\n",
              "       [-1.93620160e-01,  8.89324254e-01,  2.89945316e-01],\n",
              "       [-5.36053845e-01,  9.22013384e-01,  4.92600231e-01],\n",
              "       [ 4.30358891e-01,  7.08566033e-01,  1.27432891e+00],\n",
              "       [ 3.43374925e-01,  3.99892748e-01,  4.29468846e-01],\n",
              "       [ 1.23672877e+00,  8.34795763e-01,  4.23385450e+00],\n",
              "       [ 1.14102639e+00,  8.32805025e-02,  3.78700776e-01],\n",
              "       [-9.25170932e-01,  2.99947492e-01,  1.00382354e+00],\n",
              "       [-6.98648923e-01,  1.95303370e-01,  6.65078849e-01],\n",
              "       [ 6.89054389e-01,  3.60902990e-01,  4.93372222e-01],\n",
              "       [ 1.40798048e-01,  9.69316915e-02,  2.89294849e-01],\n",
              "       [-1.35561554e+00,  2.21304989e-01,  1.15642098e+00],\n",
              "       [ 3.19109029e-01,  3.51229753e-01,  1.40954750e+00],\n",
              "       [ 1.11927956e-01,  5.03632519e-01,  5.94713952e-01],\n",
              "       [ 4.71131994e-01,  5.39528495e-02,  2.47976887e-01],\n",
              "       [-1.68375024e+00,  9.37315206e-01,  8.60587193e-02],\n",
              "       [ 8.05284895e-01,  7.31882747e-01,  2.16926667e+00],\n",
              "       [ 1.42039652e+00,  5.96922499e-01,  3.74302773e-01],\n",
              "       [ 1.11340343e+00,  1.74072439e-01,  3.16834686e-01],\n",
              "       [ 1.57961636e+00,  5.95878995e-01,  1.45498030e+00],\n",
              "       [-1.49449763e+00,  6.19352836e-01,  4.28767183e+00],\n",
              "       [ 1.70651582e+00,  3.08379129e-01,  5.27161833e-01],\n",
              "       [-1.49362300e-01,  4.56731151e-01,  1.91114722e+00],\n",
              "       [ 2.68106112e-01,  5.12284951e-01,  4.33627637e-01],\n",
              "       [ 1.00568490e+00,  7.37282250e-01,  4.10428854e+00],\n",
              "       [ 7.89771002e-01,  4.98910398e-01,  1.83322517e+00],\n",
              "       [ 2.10186491e+00,  4.87387683e-01,  1.11136804e+00],\n",
              "       [-9.50723596e-01,  6.04725783e-01,  2.69700935e+00],\n",
              "       [-2.97588580e-02,  7.25732155e-01,  9.11783107e-01],\n",
              "       [ 2.23131632e-01,  2.89937146e-01,  5.55180999e-01],\n",
              "       [-1.36091746e+00,  7.10993521e-01,  3.28972628e+00],\n",
              "       [ 1.88180822e-01,  7.95593875e-01,  3.65843358e-01],\n",
              "       [-5.30058262e-01,  7.14713175e-02,  3.14109134e+00],\n",
              "       [ 7.17643878e-01,  1.29400546e-01,  2.05042100e+00],\n",
              "       [-1.31086809e-01,  9.87617464e-01,  1.83691800e+00],\n",
              "       [ 9.21575290e-02,  8.13191398e-01,  3.45125124e+00],\n",
              "       [ 4.92137304e-01,  5.86085494e-01,  1.68734616e+00],\n",
              "       [-1.85203128e+00,  5.95081845e-01,  2.26865485e-01],\n",
              "       [ 1.80370241e+00,  9.54980262e-02,  9.73639227e-01],\n",
              "       [-9.91523937e-02,  7.81474456e-01,  1.08462691e+00],\n",
              "       [-4.14782828e-01,  9.27845240e-01,  2.13337517e+00],\n",
              "       [-7.60933099e-01,  5.20767040e-01,  1.58774706e+00],\n",
              "       [-1.11423230e+00,  5.71086987e-01,  2.59328208e+00],\n",
              "       [ 4.09975733e-01,  2.60848210e-01,  4.72180115e-01],\n",
              "       [ 7.59471114e-01,  1.70853452e-01,  7.59709133e-01],\n",
              "       [ 8.51530169e-02,  9.71943772e-01,  1.67023291e-01],\n",
              "       [ 1.06310000e+00,  5.75915105e-01,  1.08941743e+00],\n",
              "       [ 5.62681058e-01,  4.91977201e-02,  2.18620613e+00],\n",
              "       [-9.41803222e-01,  6.53138943e-01,  1.88500000e+00],\n",
              "       [-1.89752655e+00,  8.23152588e-01,  4.06387296e-01],\n",
              "       [ 7.49701327e-01,  8.61776354e-02,  3.18312910e-01],\n",
              "       [ 1.11756074e+00,  1.07379257e-01,  7.86006681e-01],\n",
              "       [-1.85890302e+00,  9.53492607e-01,  2.24288643e+00],\n",
              "       [ 9.77793190e-01,  6.00429111e-01,  5.93602427e-01],\n",
              "       [ 5.30896379e-01,  7.33755597e-01,  2.86967418e+00],\n",
              "       [-5.19056160e-01,  7.17426081e-02,  1.05148484e+00],\n",
              "       [ 7.27024871e-01,  4.81992496e-01,  5.19712726e-01],\n",
              "       [-1.95600592e+00,  7.47163412e-01,  4.70834574e+00],\n",
              "       [ 1.29902448e+00,  7.38723780e-01,  5.13213729e-01],\n",
              "       [-2.65243061e-01,  8.93235380e-01,  4.45353268e-01],\n",
              "       [-8.09206493e-01,  7.95657331e-01,  2.52778600e+00],\n",
              "       [-1.47692883e-01,  6.47552578e-01,  7.22147821e-01],\n",
              "       [-1.12855130e+00,  5.95893133e-01,  1.86750641e+00],\n",
              "       [-2.99817236e-01,  9.66812704e-02,  8.71678817e-01],\n",
              "       [-2.10088508e-01,  8.73427520e-02,  1.36836691e+00],\n",
              "       [ 1.60359283e+00,  9.23379202e-01,  2.74301880e+00],\n",
              "       [ 1.38462197e-01,  4.45536790e-03,  1.54803495e+00],\n",
              "       [-1.46337619e+00,  7.66605424e-01,  1.43319852e+00],\n",
              "       [-1.06373368e+00,  7.72809944e-01,  2.94589184e+00],\n",
              "       [-2.36726027e-01,  1.61427178e-01,  1.78848905e-01],\n",
              "       [-2.57818358e+00,  6.44482838e-01,  2.52941864e+00],\n",
              "       [-5.36142245e-02,  5.18487320e-01,  2.42129562e+00],\n",
              "       [ 1.38555152e+00,  9.42997935e-01,  2.16982761e+00],\n",
              "       [-1.05451082e+00,  6.52116889e-01,  4.30638563e-01],\n",
              "       [-9.91330554e-01,  7.92265262e-01,  2.70133226e-01],\n",
              "       [-1.69835198e-01,  3.05302271e-01,  1.30447679e+00],\n",
              "       [ 7.52819383e-01,  8.52222618e-01,  5.50264690e-01],\n",
              "       [ 4.37490520e-01,  7.51933892e-01,  3.97307627e-01],\n",
              "       [-1.64715655e+00,  8.34589431e-01,  9.00683816e-01],\n",
              "       [ 1.00645650e+00,  6.26413612e-01,  9.89824917e-01],\n",
              "       [ 5.14942453e-01,  5.76925580e-01,  2.89424431e+00],\n",
              "       [-6.18833894e-01,  7.56777206e-01,  4.59166494e+00],\n",
              "       [ 5.71751619e-01,  7.10606808e-02,  6.80518849e-01],\n",
              "       [-3.02527770e-01,  9.88658960e-01,  1.03179710e+00],\n",
              "       [ 2.05899011e-01,  8.47016749e-01,  2.59145060e-01],\n",
              "       [-1.04303925e+00,  4.73614462e-01,  4.04130298e-01],\n",
              "       [ 1.28291608e+00,  5.10850695e-01,  1.21415235e+00],\n",
              "       [ 2.74726620e-01,  3.93409178e-01,  1.78051677e-01],\n",
              "       [ 1.03554305e+00,  5.18458151e-01,  2.66301654e-01],\n",
              "       [ 5.95035165e-01,  1.19287103e-01,  2.15713061e+00],\n",
              "       [ 2.00947231e-01,  3.54231392e-01,  8.06308970e-01],\n",
              "       [-2.67021287e-03,  6.47308711e-01,  3.36357995e+00],\n",
              "       [ 1.41251608e+00,  8.66261739e-01,  2.31798129e-01],\n",
              "       [-8.04027263e-01,  8.34773191e-01,  5.49796703e+00],\n",
              "       [-5.70507549e-01,  4.31192448e-01,  3.12062403e-01],\n",
              "       [ 6.22113179e-01,  1.64379503e-01,  2.29190217e+00],\n",
              "       [ 2.70114925e-01,  1.87773176e-01,  8.42850782e-01],\n",
              "       [-1.01529935e+00,  6.21615856e-01,  6.11114659e+00],\n",
              "       [-6.32725439e-01,  1.22744992e-01,  7.05084280e-01],\n",
              "       [-3.38474629e-01,  7.98620150e-02,  2.65477498e-01],\n",
              "       [ 1.84348063e-01,  8.25451110e-01,  3.46449586e-01],\n",
              "       [-2.18818377e-01,  6.55023647e-01,  1.13173696e+00],\n",
              "       [ 1.01298947e+00,  1.22106239e-01,  1.06828266e+00],\n",
              "       [-6.66609073e-01,  8.15749304e-01,  4.41008441e-01],\n",
              "       [ 8.87302018e-01,  7.25796655e-01,  3.27191715e+00],\n",
              "       [ 1.44560312e+00,  6.15236066e-02,  1.03244510e+00],\n",
              "       [-1.40512690e+00,  7.39970958e-01,  1.16800349e+00],\n",
              "       [-1.79837482e+00,  1.33398741e-01,  1.03342410e+00],\n",
              "       [ 7.56706264e-01,  3.60262836e-01,  1.44438357e+00],\n",
              "       [ 8.85055142e-01,  1.11959571e-01,  3.74321815e-01],\n",
              "       [-9.77894254e-01,  9.09373717e-01,  2.29451506e+00],\n",
              "       [-1.02423326e+00,  5.80971840e-01,  3.18859682e-01],\n",
              "       [-1.46843599e+00,  8.37856444e-02,  4.07067048e-01],\n",
              "       [ 1.28441871e+00,  9.24962879e-01,  4.15622042e-01],\n",
              "       [ 2.80091584e-02,  6.28736196e-01,  9.95465434e-01],\n",
              "       [ 4.20308848e-01,  7.08102592e-01,  1.27364445e+00]])"
            ]
          },
          "metadata": {},
          "execution_count": 14
        }
      ]
    },
    {
      "cell_type": "code",
      "source": [
        "# array de 20 x 1 para y_train:\n",
        "y_np = np.array([0,0,0,0,0,0,0,0,0,0,0,0,0,0,0,0,0,0,0,0,0,0,0,0,0,0,0,0,0,0,0,0,0,0,0,0,0,0,0,0,0,0,0,0,0,0,0,0,0,0,0,0,0,0,0,0,0,0,0,0,0,0,0,0,0,0,0,0,0,0,0,0,0,0,0,0,0,0,0,0,0,0,0,0,0,0,0,0,0,0,0,0,0,0,0,0,0,0,0,0,1,1,1,1,1,1,1,1,1,1, 1,1,1,1,1,1,1,1,1,1,1,1,1,1,1,1,1,1,1,1,1,1,1,1,1,1,1,1,1,1,1,1,1,1,1,1,1,1,1,1,1,1,1,1,1,1,1,1,1,1,1,1,1,1,1,1,1,1,1,1,1,1,1,1,1,1,1,1,1,1,1,1,1,1,1,1,1,1,1,1,1,1,1,1,1,1,1,1,1,1])\n",
        "y_np"
      ],
      "metadata": {
        "colab": {
          "base_uri": "https://localhost:8080/"
        },
        "id": "igE4ihRZ1FX6",
        "outputId": "3abbb6c3-346c-4a0c-f20c-ea6a78671b97"
      },
      "execution_count": 15,
      "outputs": [
        {
          "output_type": "execute_result",
          "data": {
            "text/plain": [
              "array([0, 0, 0, 0, 0, 0, 0, 0, 0, 0, 0, 0, 0, 0, 0, 0, 0, 0, 0, 0, 0, 0,\n",
              "       0, 0, 0, 0, 0, 0, 0, 0, 0, 0, 0, 0, 0, 0, 0, 0, 0, 0, 0, 0, 0, 0,\n",
              "       0, 0, 0, 0, 0, 0, 0, 0, 0, 0, 0, 0, 0, 0, 0, 0, 0, 0, 0, 0, 0, 0,\n",
              "       0, 0, 0, 0, 0, 0, 0, 0, 0, 0, 0, 0, 0, 0, 0, 0, 0, 0, 0, 0, 0, 0,\n",
              "       0, 0, 0, 0, 0, 0, 0, 0, 0, 0, 0, 0, 1, 1, 1, 1, 1, 1, 1, 1, 1, 1,\n",
              "       1, 1, 1, 1, 1, 1, 1, 1, 1, 1, 1, 1, 1, 1, 1, 1, 1, 1, 1, 1, 1, 1,\n",
              "       1, 1, 1, 1, 1, 1, 1, 1, 1, 1, 1, 1, 1, 1, 1, 1, 1, 1, 1, 1, 1, 1,\n",
              "       1, 1, 1, 1, 1, 1, 1, 1, 1, 1, 1, 1, 1, 1, 1, 1, 1, 1, 1, 1, 1, 1,\n",
              "       1, 1, 1, 1, 1, 1, 1, 1, 1, 1, 1, 1, 1, 1, 1, 1, 1, 1, 1, 1, 1, 1,\n",
              "       1, 1])"
            ]
          },
          "metadata": {},
          "execution_count": 15
        }
      ]
    },
    {
      "cell_type": "code",
      "source": [
        "# Separo en grupos de entrenamiento y testeo.\n",
        "X_train, X_test, y_train, y_test = train_test_split(X_np,y_np,test_size=0.2)"
      ],
      "metadata": {
        "id": "BmfD7oVX1Fax"
      },
      "execution_count": 16,
      "outputs": []
    },
    {
      "cell_type": "code",
      "source": [
        "# muestro los tamaños de los sets que separé para entrenar y testear el modelo\n",
        "print('X_train:',len(X_train))\n",
        "print('X_test:  ',len(X_test))\n",
        "print('y_train:',len(y_train))\n",
        "print('y_test:  ',len(y_test))"
      ],
      "metadata": {
        "colab": {
          "base_uri": "https://localhost:8080/"
        },
        "id": "LbSlt8gk1Fdm",
        "outputId": "d3d730af-8839-44e3-8b70-74775c06a231"
      },
      "execution_count": 17,
      "outputs": [
        {
          "output_type": "stream",
          "name": "stdout",
          "text": [
            "X_train: 160\n",
            "X_test:   40\n",
            "y_train: 160\n",
            "y_test:   40\n"
          ]
        }
      ]
    },
    {
      "cell_type": "code",
      "source": [
        "# draw boxplots to visualize outliers.\n",
        "plt.figure(figsize=(15,10))\n",
        "plt.subplot(2, 2, 1)\n",
        "fig = df.boxplot(column=0)\n",
        "fig.set_title('')\n",
        "fig.set_ylabel('Distribución Normal')"
      ],
      "metadata": {
        "colab": {
          "base_uri": "https://localhost:8080/",
          "height": 312
        },
        "id": "LltYUnVt1Fgi",
        "outputId": "7a430718-74c2-40eb-edb6-f61620997a81"
      },
      "execution_count": 18,
      "outputs": [
        {
          "output_type": "execute_result",
          "data": {
            "text/plain": [
              "Text(0, 0.5, 'Distribución Normal')"
            ]
          },
          "metadata": {},
          "execution_count": 18
        },
        {
          "output_type": "display_data",
          "data": {
            "text/plain": [
              "<Figure size 1080x720 with 1 Axes>"
            ],
            "image/png": "[encoded data removed]"
          },
          "metadata": {
            "needs_background": "light"
          }
        }
      ]
    },
    {
      "cell_type": "code",
      "source": [
        "# draw boxplots to visualize outliers.\n",
        "plt.figure(figsize=(15,10))\n",
        "plt.subplot(2, 2, 1)\n",
        "fig = df.boxplot(column=1)\n",
        "fig.set_title('')\n",
        "fig.set_ylabel('Distribución Uniforme')"
      ],
      "metadata": {
        "colab": {
          "base_uri": "https://localhost:8080/",
          "height": 312
        },
        "id": "wFpNGn9B12ll",
        "outputId": "69df6dd7-0c40-45f1-b264-d05392dc7bf8"
      },
      "execution_count": 19,
      "outputs": [
        {
          "output_type": "execute_result",
          "data": {
            "text/plain": [
              "Text(0, 0.5, 'Distribución Uniforme')"
            ]
          },
          "metadata": {},
          "execution_count": 19
        },
        {
          "output_type": "display_data",
          "data": {
            "text/plain": [
              "<Figure size 1080x720 with 1 Axes>"
            ],
            "image/png": "[encoded data removed]"
          },
          "metadata": {
            "needs_background": "light"
          }
        }
      ]
    },
    {
      "cell_type": "code",
      "source": [
        "# draw boxplots to visualize outliers.\n",
        "plt.figure(figsize=(15,10))\n",
        "plt.subplot(2, 2, 1)\n",
        "fig = df.boxplot(column=2)\n",
        "fig.set_title('')\n",
        "fig.set_ylabel('Distribución Sesgada')"
      ],
      "metadata": {
        "colab": {
          "base_uri": "https://localhost:8080/",
          "height": 312
        },
        "id": "rhspUiNB12o7",
        "outputId": "0f35893a-6e6b-4cac-d84b-34d9f4dc2879"
      },
      "execution_count": 20,
      "outputs": [
        {
          "output_type": "execute_result",
          "data": {
            "text/plain": [
              "Text(0, 0.5, 'Distribución Sesgada')"
            ]
          },
          "metadata": {},
          "execution_count": 20
        },
        {
          "output_type": "display_data",
          "data": {
            "text/plain": [
              "<Figure size 1080x720 with 1 Axes>"
            ],
            "image/png": "[encoded data removed]"
          },
          "metadata": {
            "needs_background": "light"
          }
        }
      ]
    },
    {
      "cell_type": "code",
      "source": [
        "from sklearn.preprocessing import StandardScaler"
      ],
      "metadata": {
        "id": "v01G1FGa129l"
      },
      "execution_count": 21,
      "outputs": []
    },
    {
      "cell_type": "code",
      "source": [
        "escalar = StandardScaler()"
      ],
      "metadata": {
        "id": "U2WN9Fs00uX1"
      },
      "execution_count": 22,
      "outputs": []
    },
    {
      "cell_type": "code",
      "source": [
        "#fit_transform, esta instrucción realiza el calculo respectivo y a su vez transforma y devuelve los datos ya escalados.\n",
        "X_train = escalar.fit_transform(X_train)\n",
        "X_test = escalar.transform(X_test)"
      ],
      "metadata": {
        "id": "SLE3PrU32NfT"
      },
      "execution_count": 23,
      "outputs": []
    },
    {
      "cell_type": "code",
      "source": [
        "#Defino el algoritmo a utilizar\n",
        "algoritmo = LogisticRegression()"
      ],
      "metadata": {
        "id": "GjoHJPER2NiN"
      },
      "execution_count": 24,
      "outputs": []
    },
    {
      "cell_type": "code",
      "source": [
        "#entrenamos el modelo utilizando la instrucción fit y los datos tanto de “X” como de “y” de entrenamiento.\n",
        "\n",
        "algoritmo.fit(X_train, y_train)"
      ],
      "metadata": {
        "colab": {
          "base_uri": "https://localhost:8080/"
        },
        "id": "jAxP3Yv92Nk7",
        "outputId": "4bafe945-c37a-40ca-bc27-8fe251814091"
      },
      "execution_count": 25,
      "outputs": [
        {
          "output_type": "execute_result",
          "data": {
            "text/plain": [
              "LogisticRegression()"
            ]
          },
          "metadata": {},
          "execution_count": 25
        }
      ]
    },
    {
      "cell_type": "code",
      "source": [
        "#finalmente realizamos una predicción, utilizando la instrucción predict y los datos de prueba.\n",
        "y_pred = algoritmo.predict(X_test)\n",
        "y_pred"
      ],
      "metadata": {
        "colab": {
          "base_uri": "https://localhost:8080/"
        },
        "id": "8PVG8G1V2Nn-",
        "outputId": "6d3a5ae2-113c-4e3d-86d4-4b02b88577b0"
      },
      "execution_count": 26,
      "outputs": [
        {
          "output_type": "execute_result",
          "data": {
            "text/plain": [
              "array([1, 1, 0, 1, 1, 1, 1, 1, 1, 0, 0, 0, 1, 1, 0, 1, 1, 1, 1, 1, 0, 1,\n",
              "       1, 1, 0, 1, 1, 0, 0, 1, 0, 1, 1, 1, 1, 0, 1, 0, 0, 1])"
            ]
          },
          "metadata": {},
          "execution_count": 26
        }
      ]
    },
    {
      "cell_type": "code",
      "source": [
        "#Verifico la matriz de Confusión\n",
        "from sklearn.metrics import confusion_matrix\n",
        "matriz = confusion_matrix(y_test, y_pred)\n",
        "print('Matriz de Confusión:')\n",
        "print(matriz)"
      ],
      "metadata": {
        "colab": {
          "base_uri": "https://localhost:8080/"
        },
        "id": "hjt0IvSJ2Nqr",
        "outputId": "ca6dac2c-3112-42f9-f96d-c40faa3b0f8c"
      },
      "execution_count": 27,
      "outputs": [
        {
          "output_type": "stream",
          "name": "stdout",
          "text": [
            "Matriz de Confusión:\n",
            "[[ 8 14]\n",
            " [ 5 13]]\n"
          ]
        }
      ]
    },
    {
      "cell_type": "code",
      "source": [
        "# Visualizamos la Matriz de Confusión:\n",
        "matrix = pd.DataFrame(data=matriz, columns=['Actual Positive:1', 'Actual Negative:0'], \n",
        "                                 index=['Predict Positive:1', 'Predict Negative:0'])\n",
        "sns.heatmap(matrix, annot=True, fmt='d', cmap='YlGnBu')"
      ],
      "metadata": {
        "colab": {
          "base_uri": "https://localhost:8080/",
          "height": 286
        },
        "id": "AWGy0mOGz-lH",
        "outputId": "f2006711-a949-4b26-f292-4f0f287d5c35"
      },
      "execution_count": 28,
      "outputs": [
        {
          "output_type": "execute_result",
          "data": {
            "text/plain": [
              "<matplotlib.axes._subplots.AxesSubplot at 0x7f14e2756bd0>"
            ]
          },
          "metadata": {},
          "execution_count": 28
        },
        {
          "output_type": "display_data",
          "data": {
            "text/plain": [
              "<Figure size 432x288 with 2 Axes>"
            ],
            "image/png": "[encoded data removed]"
          },
          "metadata": {
            "needs_background": "light"
          }
        }
      ]
    },
    {
      "cell_type": "markdown",
      "source": [
        "--------------------------------------------------------------------------------\n",
        "-- Cantidad de datos que el modelo predijo correctamente.\n",
        "\n",
        "*La matriz nos indica que cuenta con 8 datos verdaderos positivos, es decir datos que en los datos reales eran 1 y el modelo los predijo bien.\n",
        "\n",
        "*Por su parte el valor 13 indica el dato verdadero negativo, esto quiere decir datos reales que eran 0 y el modelo los predijo como tal.\n",
        "\n",
        "-- Veamos ahora la cantidad de datos que el modelo no predijo correctamente.\n",
        "\n",
        "*Comencemos con los datos falsos negativos, en total fueron de 14.\n",
        "\n",
        "*En cuanto a los datos falsos positivos fueron 5 datos, que era en realidad 0 y el modelo lo predijo como 1."
      ],
      "metadata": {
        "id": "7MQ6Axai3BCn"
      }
    },
    {
      "cell_type": "code",
      "source": [
        "#Calculo la precisión del modelo\n",
        "from sklearn.metrics import precision_score\n",
        "precision = precision_score(y_test, y_pred)\n",
        "print('Precisión del modelo:')\n",
        "print(precision)"
      ],
      "metadata": {
        "colab": {
          "base_uri": "https://localhost:8080/"
        },
        "id": "lMc9rXqy2lh8",
        "outputId": "62e4dd1e-b640-4735-9ccd-f219caac25cd"
      },
      "execution_count": 29,
      "outputs": [
        {
          "output_type": "stream",
          "name": "stdout",
          "text": [
            "Precisión del modelo:\n",
            "0.48148148148148145\n"
          ]
        }
      ]
    },
    {
      "cell_type": "markdown",
      "source": [
        "-------------------------------------------------------------------------------\n",
        "Calculemos ahora la exactitud del modelo, por lo que debemos ahora importar accuracy_score, de la misma librería de metrics."
      ],
      "metadata": {
        "id": "Q7kpLmh_3h7u"
      }
    },
    {
      "cell_type": "code",
      "source": [
        "#Calculo la exactitud del modelo\n",
        "from sklearn.metrics import accuracy_score\n",
        "exactitud = accuracy_score(y_test, y_pred)\n",
        "print('Exactitud del modelo:')\n",
        "print(exactitud)"
      ],
      "metadata": {
        "colab": {
          "base_uri": "https://localhost:8080/"
        },
        "id": "0oXghL2X2lnV",
        "outputId": "62591536-7042-4f5b-b226-1dd860766f37"
      },
      "execution_count": 30,
      "outputs": [
        {
          "output_type": "stream",
          "name": "stdout",
          "text": [
            "Exactitud del modelo:\n",
            "0.525\n"
          ]
        }
      ]
    },
    {
      "cell_type": "markdown",
      "source": [
        "-------------------------------------------------------------------------------\n",
        "Veamos ahora la sensibilidad o lo que también se le conoce como recall del algoritmo, para ello importamos recall_score."
      ],
      "metadata": {
        "id": "dxBfY8Xy325a"
      }
    },
    {
      "cell_type": "code",
      "source": [
        "#Calculo la sensibilidad del modelo\n",
        "from sklearn.metrics import recall_score\n",
        "sensibilidad = recall_score(y_test, y_pred)\n",
        "print('Sensibilidad del modelo:')\n",
        "print(sensibilidad)"
      ],
      "metadata": {
        "colab": {
          "base_uri": "https://localhost:8080/"
        },
        "id": "TeLmiclu2lst",
        "outputId": "1822d970-320c-4bf8-c133-912d911977c9"
      },
      "execution_count": 31,
      "outputs": [
        {
          "output_type": "stream",
          "name": "stdout",
          "text": [
            "Sensibilidad del modelo:\n",
            "0.7222222222222222\n"
          ]
        }
      ]
    },
    {
      "cell_type": "markdown",
      "source": [
        "--------------------------------------------------------------------------------\n",
        "Calculemos ahora el puntaje F1 que es una combinación entre la precisión y la sensibilidad, para esto importamos f1_score."
      ],
      "metadata": {
        "id": "MG-bgQ-O4Ey3"
      }
    },
    {
      "cell_type": "code",
      "source": [
        "#Calculo el Puntaje F1 del modelo\n",
        "from sklearn.metrics import f1_score\n",
        "puntajef1 = f1_score(y_test, y_pred)\n",
        "print('Puntaje F1 del modelo:')\n",
        "print(puntajef1)"
      ],
      "metadata": {
        "colab": {
          "base_uri": "https://localhost:8080/"
        },
        "id": "_2Sr5H5-4FdT",
        "outputId": "d0ea6e2e-d113-4104-e443-e3666612cfbd"
      },
      "execution_count": 32,
      "outputs": [
        {
          "output_type": "stream",
          "name": "stdout",
          "text": [
            "Puntaje F1 del modelo:\n",
            "0.5777777777777777\n"
          ]
        }
      ]
    },
    {
      "cell_type": "code",
      "source": [
        ""
      ],
      "metadata": {
        "id": "JOg6a7GX4FgK"
      },
      "execution_count": null,
      "outputs": []
    },
    {
      "cell_type": "code",
      "source": [
        ""
      ],
      "metadata": {
        "id": "nrTyueLV4Fiv"
      },
      "execution_count": null,
      "outputs": []
    },
    {
      "cell_type": "code",
      "source": [
        ""
      ],
      "metadata": {
        "id": "hOyYcE3_4Flc"
      },
      "execution_count": null,
      "outputs": []
    }
  ]
}